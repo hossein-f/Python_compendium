{
 "cells": [
  {
   "cell_type": "markdown",
   "metadata": {},
   "source": [
    "# Scraping the web II\n",
    "parse, urlopen"
   ]
  },
  {
   "cell_type": "markdown",
   "metadata": {},
   "source": [
    "## Yahoo's Finance"
   ]
  },
  {
   "cell_type": "code",
   "execution_count": 2,
   "metadata": {
    "collapsed": true
   },
   "outputs": [],
   "source": [
    "from lxml.html import parse\n",
    "from urllib2 import urlopen"
   ]
  },
  {
   "cell_type": "code",
   "execution_count": 4,
   "metadata": {
    "collapsed": true
   },
   "outputs": [],
   "source": [
    "url = \"http://finance.yahoo.com/q/op?s=AAPL+Options\"\n",
    "\n",
    "parsed = parse(urlopen(url))\n",
    "doc = parsed.getroot()"
   ]
  },
  {
   "cell_type": "markdown",
   "metadata": {},
   "source": [
    "#### Get all links first"
   ]
  },
  {
   "cell_type": "code",
   "execution_count": 7,
   "metadata": {
    "collapsed": false
   },
   "outputs": [
    {
     "name": "stdout",
     "output_type": "stream",
     "text": [
      "[<Element a at 0x10581ce10>, <Element a at 0x10581ce68>, <Element a at 0x10581cec0>, <Element a at 0x10581cf18>, <Element a at 0x10581cf70>, <Element a at 0x10581cfc8>, <Element a at 0x105951050>, <Element a at 0x1059510a8>, <Element a at 0x105951100>, <Element a at 0x105951158>]\n"
     ]
    }
   ],
   "source": [
    "\n",
    "links = doc.findall('.//a')\n",
    "print links[:10]"
   ]
  },
  {
   "cell_type": "code",
   "execution_count": 12,
   "metadata": {
    "collapsed": false
   },
   "outputs": [
    {
     "data": {
      "text/plain": [
       "'http://shopping.yahoo.com/'"
      ]
     },
     "execution_count": 12,
     "metadata": {},
     "output_type": "execute_result"
    }
   ],
   "source": [
    "lnk = links[20]\n",
    "lnk.get('href')"
   ]
  },
  {
   "cell_type": "code",
   "execution_count": 13,
   "metadata": {
    "collapsed": false
   },
   "outputs": [
    {
     "data": {
      "text/plain": [
       "'Shopping'"
      ]
     },
     "execution_count": 13,
     "metadata": {},
     "output_type": "execute_result"
    }
   ],
   "source": [
    "lnk.text_content()"
   ]
  },
  {
   "cell_type": "code",
   "execution_count": 15,
   "metadata": {
    "collapsed": false
   },
   "outputs": [
    {
     "data": {
      "text/plain": [
       "['/q/op?s=AAPL&strike=117.00',\n",
       " '/q?s=AAPL160422P00117000',\n",
       " '/q/op?s=AAPL&strike=118.00',\n",
       " '/q?s=AAPL160422P00118000',\n",
       " '/q/op?s=AAPL&strike=119.00',\n",
       " '/q?s=AAPL160422P00119000',\n",
       " '/q/op?s=AAPL&strike=120.00',\n",
       " '/q?s=AAPL160422P00120000',\n",
       " '/q/op?s=AAPL&strike=125.00',\n",
       " '/q?s=AAPL160422P00125000']"
      ]
     },
     "execution_count": 15,
     "metadata": {},
     "output_type": "execute_result"
    }
   ],
   "source": [
    "urls =  [lnk.get('href') for lnk in doc.findall('.//a')]\n",
    "urls[-10:]"
   ]
  },
  {
   "cell_type": "markdown",
   "metadata": {},
   "source": [
    "### Now, get the tables"
   ]
  },
  {
   "cell_type": "code",
   "execution_count": 68,
   "metadata": {
    "collapsed": false
   },
   "outputs": [],
   "source": [
    "tables = doc.findall('.//table')\n",
    "\n",
    "#print tables[1].text_content()\n",
    "calls = tables[1]\n",
    "puts = tables[2]\n",
    "\n",
    "rows = calls.findall('.//tr')\n",
    "#print rows[0].text_content()"
   ]
  },
  {
   "cell_type": "code",
   "execution_count": 119,
   "metadata": {
    "collapsed": false
   },
   "outputs": [],
   "source": [
    "def _unpack(row, kind='td'):\n",
    "    elts = row.findall('.//%s' %kind)\n",
    "    return [val.text_content().replace('\\n','') for val in elts]\n"
   ]
  },
  {
   "cell_type": "code",
   "execution_count": 120,
   "metadata": {
    "collapsed": false
   },
   "outputs": [
    {
     "data": {
      "text/plain": [
       "[u'                                     Strike                                            \\ue004                        \\ue002                                                    \\u2235 Filter            ',\n",
       " 'Contract Name',\n",
       " u'                                    Last                                            \\ue004                        \\ue002                                                ',\n",
       " u'                                    Bid                                            \\ue004                        \\ue002                                                ',\n",
       " u'                                    Ask                                            \\ue004                        \\ue002                                                ',\n",
       " u'                                    Change                                            \\ue004                        \\ue002                                                ',\n",
       " u'                                    %Change                                            \\ue004                        \\ue002                                                ',\n",
       " u'                                    Volume                                            \\ue004                        \\ue002                                                ',\n",
       " u'                                    Open Interest                                            \\ue004                        \\ue002                                                ',\n",
       " u'                                    Implied Volatility                                            \\ue004                        \\ue002                                                ']"
      ]
     },
     "execution_count": 120,
     "metadata": {},
     "output_type": "execute_result"
    }
   ],
   "source": [
    "_unpack(rows[0], kind='th')"
   ]
  },
  {
   "cell_type": "code",
   "execution_count": 121,
   "metadata": {
    "collapsed": false
   },
   "outputs": [
    {
     "data": {
      "text/plain": [
       "['            80.00        ',\n",
       " '            AAPL160422C00080000        ',\n",
       " '            27.72        ',\n",
       " '            27.00        ',\n",
       " '            27.30        ',\n",
       " '            -1.55        ',\n",
       " '                            -5.30%                    ',\n",
       " '            1        ',\n",
       " '            1        ',\n",
       " '            128.13%        ']"
      ]
     },
     "execution_count": 121,
     "metadata": {},
     "output_type": "execute_result"
    }
   ],
   "source": [
    "_unpack(rows[2], kind='td')"
   ]
  },
  {
   "cell_type": "markdown",
   "metadata": {},
   "source": [
    "### Combining all (using pandas)"
   ]
  },
  {
   "cell_type": "code",
   "execution_count": 122,
   "metadata": {
    "collapsed": true
   },
   "outputs": [],
   "source": [
    "from pandas.io.parsers import TextParser"
   ]
  },
  {
   "cell_type": "code",
   "execution_count": 123,
   "metadata": {
    "collapsed": true
   },
   "outputs": [],
   "source": [
    "def parse_option_data(table):\n",
    "    rows = table.findall('.//tr')\n",
    "    header = _unpack(rows[0], kind ='th')\n",
    "    data   =[_unpack(r) for r in rows[1:]] \n",
    "    return TextParser(data, names=header).get_chunk()"
   ]
  },
  {
   "cell_type": "code",
   "execution_count": 124,
   "metadata": {
    "collapsed": true
   },
   "outputs": [],
   "source": [
    "call_data = parse_option_data(calls)"
   ]
  },
  {
   "cell_type": "code",
   "execution_count": 126,
   "metadata": {
    "collapsed": false
   },
   "outputs": [
    {
     "data": {
      "text/html": [
       "<div>\n",
       "<table border=\"1\" class=\"dataframe\">\n",
       "  <thead>\n",
       "    <tr style=\"text-align: right;\">\n",
       "      <th></th>\n",
       "      <th>Strike                                                                                                                        ∵ Filter</th>\n",
       "      <th>Contract Name</th>\n",
       "      <th>Last                                                                    </th>\n",
       "      <th>Bid                                                                    </th>\n",
       "      <th>Ask                                                                    </th>\n",
       "      <th>Change                                                                    </th>\n",
       "      <th>%Change                                                                    </th>\n",
       "      <th>Volume                                                                    </th>\n",
       "      <th>Open Interest                                                                    </th>\n",
       "      <th>Implied Volatility                                                                    </th>\n",
       "    </tr>\n",
       "  </thead>\n",
       "  <tbody>\n",
       "    <tr>\n",
       "      <th>0</th>\n",
       "      <td>...</td>\n",
       "      <td>None</td>\n",
       "      <td>NaN</td>\n",
       "      <td>NaN</td>\n",
       "      <td>NaN</td>\n",
       "      <td>NaN</td>\n",
       "      <td>None</td>\n",
       "      <td>NaN</td>\n",
       "      <td>NaN</td>\n",
       "      <td>None</td>\n",
       "    </tr>\n",
       "    <tr>\n",
       "      <th>1</th>\n",
       "      <td>80.00</td>\n",
       "      <td>AAPL160422C00080000</td>\n",
       "      <td>27.72</td>\n",
       "      <td>27.00</td>\n",
       "      <td>27.30</td>\n",
       "      <td>-1.55</td>\n",
       "      <td>-5.30%            ...</td>\n",
       "      <td>1.0</td>\n",
       "      <td>1.0</td>\n",
       "      <td>128.13%</td>\n",
       "    </tr>\n",
       "    <tr>\n",
       "      <th>2</th>\n",
       "      <td>85.00</td>\n",
       "      <td>AAPL160422C00085000</td>\n",
       "      <td>0.00</td>\n",
       "      <td>16.20</td>\n",
       "      <td>16.75</td>\n",
       "      <td>0.00</td>\n",
       "      <td>0.00%             ...</td>\n",
       "      <td>0.0</td>\n",
       "      <td>0.0</td>\n",
       "      <td>0.00%</td>\n",
       "    </tr>\n",
       "    <tr>\n",
       "      <th>3</th>\n",
       "      <td>88.00</td>\n",
       "      <td>AAPL160422C00088000</td>\n",
       "      <td>0.00</td>\n",
       "      <td>13.20</td>\n",
       "      <td>14.20</td>\n",
       "      <td>0.00</td>\n",
       "      <td>0.00%             ...</td>\n",
       "      <td>0.0</td>\n",
       "      <td>0.0</td>\n",
       "      <td>0.00%</td>\n",
       "    </tr>\n",
       "    <tr>\n",
       "      <th>4</th>\n",
       "      <td>89.00</td>\n",
       "      <td>AAPL160422C00089000</td>\n",
       "      <td>0.00</td>\n",
       "      <td>12.20</td>\n",
       "      <td>13.20</td>\n",
       "      <td>0.00</td>\n",
       "      <td>0.00%             ...</td>\n",
       "      <td>0.0</td>\n",
       "      <td>0.0</td>\n",
       "      <td>0.00%</td>\n",
       "    </tr>\n",
       "    <tr>\n",
       "      <th>5</th>\n",
       "      <td>90.00</td>\n",
       "      <td>AAPL160422C00090000</td>\n",
       "      <td>16.85</td>\n",
       "      <td>17.05</td>\n",
       "      <td>17.25</td>\n",
       "      <td>0.00</td>\n",
       "      <td>0.00%             ...</td>\n",
       "      <td>1.0</td>\n",
       "      <td>217.0</td>\n",
       "      <td>80.47%</td>\n",
       "    </tr>\n",
       "    <tr>\n",
       "      <th>6</th>\n",
       "      <td>90.50</td>\n",
       "      <td>AAPL160422C00090500</td>\n",
       "      <td>16.55</td>\n",
       "      <td>16.55</td>\n",
       "      <td>16.80</td>\n",
       "      <td>0.00</td>\n",
       "      <td>0.00%             ...</td>\n",
       "      <td>14.0</td>\n",
       "      <td>14.0</td>\n",
       "      <td>86.72%</td>\n",
       "    </tr>\n",
       "    <tr>\n",
       "      <th>7</th>\n",
       "      <td>91.00</td>\n",
       "      <td>AAPL160422C00091000</td>\n",
       "      <td>18.05</td>\n",
       "      <td>18.90</td>\n",
       "      <td>19.20</td>\n",
       "      <td>0.00</td>\n",
       "      <td>0.00%             ...</td>\n",
       "      <td>2.0</td>\n",
       "      <td>2.0</td>\n",
       "      <td>244.14%</td>\n",
       "    </tr>\n",
       "    <tr>\n",
       "      <th>8</th>\n",
       "      <td>91.50</td>\n",
       "      <td>AAPL160422C00091500</td>\n",
       "      <td>17.50</td>\n",
       "      <td>18.40</td>\n",
       "      <td>18.70</td>\n",
       "      <td>0.00</td>\n",
       "      <td>0.00%             ...</td>\n",
       "      <td>37.0</td>\n",
       "      <td>37.0</td>\n",
       "      <td>239.26%</td>\n",
       "    </tr>\n",
       "    <tr>\n",
       "      <th>9</th>\n",
       "      <td>92.00</td>\n",
       "      <td>AAPL160422C00092000</td>\n",
       "      <td>17.38</td>\n",
       "      <td>17.65</td>\n",
       "      <td>18.05</td>\n",
       "      <td>0.00</td>\n",
       "      <td>0.00%             ...</td>\n",
       "      <td>2.0</td>\n",
       "      <td>8.0</td>\n",
       "      <td>227.05%</td>\n",
       "    </tr>\n",
       "  </tbody>\n",
       "</table>\n",
       "</div>"
      ],
      "text/plain": [
       "                                       Strike                                                                                                                        ∵ Filter              \\\n",
       "0                                                ...                                                                                                                                          \n",
       "1                                      80.00                                                                                                                                                  \n",
       "2                                      85.00                                                                                                                                                  \n",
       "3                                      88.00                                                                                                                                                  \n",
       "4                                      89.00                                                                                                                                                  \n",
       "5                                      90.00                                                                                                                                                  \n",
       "6                                      90.50                                                                                                                                                  \n",
       "7                                      91.00                                                                                                                                                  \n",
       "8                                      91.50                                                                                                                                                  \n",
       "9                                      92.00                                                                                                                                                  \n",
       "\n",
       "                             Contract Name  \\\n",
       "0                                     None   \n",
       "1              AAPL160422C00080000           \n",
       "2              AAPL160422C00085000           \n",
       "3              AAPL160422C00088000           \n",
       "4              AAPL160422C00089000           \n",
       "5              AAPL160422C00090000           \n",
       "6              AAPL160422C00090500           \n",
       "7              AAPL160422C00091000           \n",
       "8              AAPL160422C00091500           \n",
       "9              AAPL160422C00092000           \n",
       "\n",
       "                                       Last                                                                                                                      \\\n",
       "0                                                NaN                                                                                                                \n",
       "1                                              27.72                                                                                                                \n",
       "2                                               0.00                                                                                                                \n",
       "3                                               0.00                                                                                                                \n",
       "4                                               0.00                                                                                                                \n",
       "5                                              16.85                                                                                                                \n",
       "6                                              16.55                                                                                                                \n",
       "7                                              18.05                                                                                                                \n",
       "8                                              17.50                                                                                                                \n",
       "9                                              17.38                                                                                                                \n",
       "\n",
       "                                       Bid                                                                                                                      \\\n",
       "0                                                NaN                                                                                                               \n",
       "1                                              27.00                                                                                                               \n",
       "2                                              16.20                                                                                                               \n",
       "3                                              13.20                                                                                                               \n",
       "4                                              12.20                                                                                                               \n",
       "5                                              17.05                                                                                                               \n",
       "6                                              16.55                                                                                                               \n",
       "7                                              18.90                                                                                                               \n",
       "8                                              18.40                                                                                                               \n",
       "9                                              17.65                                                                                                               \n",
       "\n",
       "                                       Ask                                                                                                                      \\\n",
       "0                                                NaN                                                                                                               \n",
       "1                                              27.30                                                                                                               \n",
       "2                                              16.75                                                                                                               \n",
       "3                                              14.20                                                                                                               \n",
       "4                                              13.20                                                                                                               \n",
       "5                                              17.25                                                                                                               \n",
       "6                                              16.80                                                                                                               \n",
       "7                                              19.20                                                                                                               \n",
       "8                                              18.70                                                                                                               \n",
       "9                                              18.05                                                                                                               \n",
       "\n",
       "                                       Change                                                                                                                      \\\n",
       "0                                                NaN                                                                                                                  \n",
       "1                                              -1.55                                                                                                                  \n",
       "2                                               0.00                                                                                                                  \n",
       "3                                               0.00                                                                                                                  \n",
       "4                                               0.00                                                                                                                  \n",
       "5                                               0.00                                                                                                                  \n",
       "6                                               0.00                                                                                                                  \n",
       "7                                               0.00                                                                                                                  \n",
       "8                                               0.00                                                                                                                  \n",
       "9                                               0.00                                                                                                                  \n",
       "\n",
       "                                      %Change                                                                                                                      \\\n",
       "0                                               None                                                                                                                  \n",
       "1                              -5.30%            ...                                                                                                                  \n",
       "2                              0.00%             ...                                                                                                                  \n",
       "3                              0.00%             ...                                                                                                                  \n",
       "4                              0.00%             ...                                                                                                                  \n",
       "5                              0.00%             ...                                                                                                                  \n",
       "6                              0.00%             ...                                                                                                                  \n",
       "7                              0.00%             ...                                                                                                                  \n",
       "8                              0.00%             ...                                                                                                                  \n",
       "9                              0.00%             ...                                                                                                                  \n",
       "\n",
       "                                       Volume                                                                                                                      \\\n",
       "0                                                NaN                                                                                                                  \n",
       "1                                                1.0                                                                                                                  \n",
       "2                                                0.0                                                                                                                  \n",
       "3                                                0.0                                                                                                                  \n",
       "4                                                0.0                                                                                                                  \n",
       "5                                                1.0                                                                                                                  \n",
       "6                                               14.0                                                                                                                  \n",
       "7                                                2.0                                                                                                                  \n",
       "8                                               37.0                                                                                                                  \n",
       "9                                                2.0                                                                                                                  \n",
       "\n",
       "                                       Open Interest                                                                                                                      \\\n",
       "0                                                NaN                                                                                                                         \n",
       "1                                                1.0                                                                                                                         \n",
       "2                                                0.0                                                                                                                         \n",
       "3                                                0.0                                                                                                                         \n",
       "4                                                0.0                                                                                                                         \n",
       "5                                              217.0                                                                                                                         \n",
       "6                                               14.0                                                                                                                         \n",
       "7                                                2.0                                                                                                                         \n",
       "8                                               37.0                                                                                                                         \n",
       "9                                                8.0                                                                                                                         \n",
       "\n",
       "                                      Implied Volatility                                                                                                                      \n",
       "0                                               None                                                                                                                            \n",
       "1                                    128.13%                                                                                                                                    \n",
       "2                                      0.00%                                                                                                                                    \n",
       "3                                      0.00%                                                                                                                                    \n",
       "4                                      0.00%                                                                                                                                    \n",
       "5                                     80.47%                                                                                                                                    \n",
       "6                                     86.72%                                                                                                                                    \n",
       "7                                    244.14%                                                                                                                                    \n",
       "8                                    239.26%                                                                                                                                    \n",
       "9                                    227.05%                                                                                                                                    "
      ]
     },
     "execution_count": 126,
     "metadata": {},
     "output_type": "execute_result"
    }
   ],
   "source": [
    "call_data[:10]"
   ]
  },
  {
   "cell_type": "code",
   "execution_count": null,
   "metadata": {
    "collapsed": true
   },
   "outputs": [],
   "source": []
  }
 ],
 "metadata": {
  "kernelspec": {
   "display_name": "Python 2",
   "language": "python",
   "name": "python2"
  },
  "language_info": {
   "codemirror_mode": {
    "name": "ipython",
    "version": 2
   },
   "file_extension": ".py",
   "mimetype": "text/x-python",
   "name": "python",
   "nbconvert_exporter": "python",
   "pygments_lexer": "ipython2",
   "version": "2.7.11"
  }
 },
 "nbformat": 4,
 "nbformat_minor": 0
}
