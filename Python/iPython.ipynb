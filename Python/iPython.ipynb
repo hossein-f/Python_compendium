{
 "cells": [
  {
   "cell_type": "markdown",
   "metadata": {},
   "source": [
    "# iPython notebook\n",
    "========="
   ]
  },
  {
   "cell_type": "markdown",
   "metadata": {},
   "source": [
    "### Tab completion"
   ]
  },
  {
   "cell_type": "code",
   "execution_count": 2,
   "metadata": {
    "collapsed": false
   },
   "outputs": [],
   "source": [
    "b = [1,2,3]\n",
    "# b.<Tab>\n",
    "\n",
    "import datetime\n",
    "# datetime.<Tab>"
   ]
  },
  {
   "cell_type": "markdown",
   "metadata": {},
   "source": [
    "### Introspection\n",
    "Using a question mark (?) before or after a \n",
    "variable will display some general information about the object"
   ]
  },
  {
   "cell_type": "code",
   "execution_count": 3,
   "metadata": {
    "collapsed": true
   },
   "outputs": [],
   "source": [
    "b?"
   ]
  },
  {
   "cell_type": "code",
   "execution_count": 4,
   "metadata": {
    "collapsed": true
   },
   "outputs": [],
   "source": [
    "def add_numbers(a,b):\n",
    "    \"\"\" Add two numbers together\n",
    "        Returns\n",
    "        ----\n",
    "        the_sum :  type of arguments\n",
    "        \"\"\"\n",
    "    return a + b\n",
    "\n",
    "# add_numbers?  shows us the docstring\n",
    "\n",
    "# add_numbers??  show the function's source code if possible\n"
   ]
  },
  {
   "cell_type": "code",
   "execution_count": 5,
   "metadata": {
    "collapsed": true
   },
   "outputs": [],
   "source": [
    "np.*load*?\n",
    "\n",
    "#search the IPython namespace in a manner similar to the \n",
    "#standard UNIX command line"
   ]
  },
  {
   "cell_type": "markdown",
   "metadata": {},
   "source": [
    "### The %run Command\n",
    "Any file can be run as a Python program inside the enviroment\n",
    "of your IPython session"
   ]
  },
  {
   "cell_type": "code",
   "execution_count": 6,
   "metadata": {
    "collapsed": true
   },
   "outputs": [],
   "source": [
    "#Assume you have this function defined in the \n",
    "# The_not_so_basics.ipynb file\n",
    "\n",
    "# def f(x, y, z):\n",
    "#    return (x + y)/z\n",
    "\n",
    "# a= 5\n",
    "# b= 6\n",
    "# c= 7\n",
    "\n",
    "# result = f(a, b, c)"
   ]
  },
  {
   "cell_type": "code",
   "execution_count": 7,
   "metadata": {
    "collapsed": false,
    "scrolled": true
   },
   "outputs": [
    {
     "name": "stdout",
     "output_type": "stream",
     "text": [
      "[('hi', 3), ('bye', 1), ('morning', 1)]\n",
      "[0.5714025946899135, 0.4288890546751146, 0.5780913011344704, 0.20609823213950174]\n",
      "[3, 2, 5, 9, 4] [6, 1, 7, 9]\n",
      "True\n",
      "8 9\n"
     ]
    }
   ],
   "source": [
    "%run The_not_so_basics.ipynb\n",
    "\n",
    "# use %run -i if you wish to give access to variables already\n",
    "# defined in the interactive IPython namespace"
   ]
  },
  {
   "cell_type": "markdown",
   "metadata": {},
   "source": [
    "### Executing code from the Clipboard\n"
   ]
  },
  {
   "cell_type": "markdown",
   "metadata": {},
   "source": [
    "## Magic commands\n",
    "\n",
    "\n",
    "A magic command is any command prefixed by the percent symbol %.\n",
    "\n",
    "    %quickref   Display the IPython Quick Reference Card\n",
    "    %magic      Display docummentation of the available magic commands\n",
    "    %paste      Execute pre-formatted Python code from clipboard \n",
    "    %cpaste"
   ]
  },
  {
   "cell_type": "code",
   "execution_count": 6,
   "metadata": {
    "collapsed": false
   },
   "outputs": [],
   "source": [
    "%magic?"
   ]
  },
  {
   "cell_type": "markdown",
   "metadata": {
    "collapsed": false
   },
   "source": [
    "### Input and Output Variables\n",
    "The previous two outputs are stored in the  (**one underscore**) and \n",
    "(**two underscores**) variables respectively."
   ]
  },
  {
   "cell_type": "code",
   "execution_count": 10,
   "metadata": {
    "collapsed": false
   },
   "outputs": [
    {
     "data": {
      "text/plain": [
       "134217728"
      ]
     },
     "execution_count": 10,
     "metadata": {},
     "output_type": "execute_result"
    }
   ],
   "source": [
    "2**27"
   ]
  },
  {
   "cell_type": "code",
   "execution_count": 11,
   "metadata": {
    "collapsed": false
   },
   "outputs": [
    {
     "data": {
      "text/plain": [
       "134217728"
      ]
     },
     "execution_count": 11,
     "metadata": {},
     "output_type": "execute_result"
    }
   ],
   "source": [
    "_"
   ]
  },
  {
   "cell_type": "markdown",
   "metadata": {
    "collapsed": true
   },
   "source": [
    "Input variables are stored in variables named like **_iX**, where X is the input line number. \n",
    "For each such input variables there is a corresponding output variable **_X**."
   ]
  },
  {
   "cell_type": "code",
   "execution_count": 12,
   "metadata": {
    "collapsed": true
   },
   "outputs": [],
   "source": [
    "foo = 'bar'"
   ]
  },
  {
   "cell_type": "code",
   "execution_count": 14,
   "metadata": {
    "collapsed": false
   },
   "outputs": [
    {
     "data": {
      "text/plain": [
       "'bar'"
      ]
     },
     "execution_count": 14,
     "metadata": {},
     "output_type": "execute_result"
    }
   ],
   "source": [
    "foo"
   ]
  },
  {
   "cell_type": "code",
   "execution_count": 15,
   "metadata": {
    "collapsed": false
   },
   "outputs": [
    {
     "data": {
      "text/plain": [
       "u'foo'"
      ]
     },
     "execution_count": 15,
     "metadata": {},
     "output_type": "execute_result"
    }
   ],
   "source": [
    "_i14"
   ]
  },
  {
   "cell_type": "code",
   "execution_count": 16,
   "metadata": {
    "collapsed": false
   },
   "outputs": [
    {
     "data": {
      "text/plain": [
       "'bar'"
      ]
     },
     "execution_count": 16,
     "metadata": {},
     "output_type": "execute_result"
    }
   ],
   "source": [
    "_14"
   ]
  },
  {
   "cell_type": "code",
   "execution_count": 22,
   "metadata": {
    "collapsed": false
   },
   "outputs": [],
   "source": [
    "# can be executed again using the Python 'exec' command\n",
    "\n",
    "exec _i14"
   ]
  },
  {
   "cell_type": "markdown",
   "metadata": {},
   "source": [
    "#### Several magic functions allow you to work with the input and output history.\n",
    "\n",
    "    %hist  : is capable of printing all or part of the input history.\n",
    "\n",
    "    %reset : is for clearing the interactive namespace and optionally the input and output caches.\n",
    "\n",
    "    %xdel  : is intended for removing all references to a particular object from the IPython machinery"
   ]
  },
  {
   "cell_type": "markdown",
   "metadata": {},
   "source": [
    "## Logging the Input and Output\n",
    "Ipython is capable of logging the entire console session including input and output."
   ]
  },
  {
   "cell_type": "code",
   "execution_count": 8,
   "metadata": {
    "collapsed": false
   },
   "outputs": [],
   "source": [
    "%logstart?\n",
    "\n",
    "# companion functions %logoff, %logon, %logstate, and %logstop"
   ]
  },
  {
   "cell_type": "markdown",
   "metadata": {},
   "source": [
    "### Interacting with the Operating System\n",
    "\n",
    "    !cmd                    Execute cmd in the system shell\n",
    "    output = !cmd args      Run cmd and store the stdout in output\n",
    "    %alias alias_name cmd   Define an alias for a system (shell) command\n",
    "    %dirs                   Return a list containing the current direc.\n",
    "    %dhist                  Print the history of visited directories\n",
    "    %env                    Return the system env variables as a dict\n",
    "    %cd directory         \n",
    "    %pwd"
   ]
  },
  {
   "cell_type": "code",
   "execution_count": 33,
   "metadata": {
    "collapsed": false
   },
   "outputs": [],
   "source": [
    "foo = 'test*'"
   ]
  },
  {
   "cell_type": "code",
   "execution_count": 34,
   "metadata": {
    "collapsed": false
   },
   "outputs": [
    {
     "name": "stdout",
     "output_type": "stream",
     "text": [
      "ls: test*: No such file or directory\r\n"
     ]
    }
   ],
   "source": [
    "!ls $foo"
   ]
  },
  {
   "cell_type": "markdown",
   "metadata": {},
   "source": [
    "### Directory Bookmark System\n",
    "Bookmarks, unlike aliases, are automatically persisted between IPython sessions.\n",
    "\n",
    "    %bookmark db /home/wesm/Dropbox/\n",
    "    cd db"
   ]
  },
  {
   "cell_type": "markdown",
   "metadata": {},
   "source": [
    "## Software Development Tools\n",
    "\n",
    "### Interactive Debugger"
   ]
  },
  {
   "cell_type": "code",
   "execution_count": 39,
   "metadata": {
    "collapsed": false
   },
   "outputs": [
    {
     "name": "stdout",
     "output_type": "stream",
     "text": [
      "hello\n",
      "default message\n",
      "cannot divide by zero\n",
      "[0, 1, 2, 3, 4, 5, 6, 7, 8, 9]\n",
      "[0, 1, 2] [7, 8, 9] [1, 2, 3, 4, 5, 6, 7, 8]\n",
      "True False\n",
      "1 2\n"
     ]
    },
    {
     "ename": "SyntaxError",
     "evalue": "invalid syntax (<ipython-input-39-5059cad3609c>, line 1)",
     "output_type": "error",
     "traceback": [
      "\u001b[0;36m  File \u001b[0;32m\"<ipython-input-39-5059cad3609c>\"\u001b[0;36m, line \u001b[0;32m1\u001b[0m\n\u001b[0;31m    try\u001b[0m\n\u001b[0m        ^\u001b[0m\n\u001b[0;31mSyntaxError\u001b[0m\u001b[0;31m:\u001b[0m invalid syntax\n"
     ]
    }
   ],
   "source": [
    "%run The_basics.ipynb"
   ]
  },
  {
   "cell_type": "markdown",
   "metadata": {},
   "source": [
    "### Interactive Debugger\n",
    "\n",
    "    %debug : invokes the 'post-mortem' debugger and drops you into the stack frame where the exception was raised.\n",
    "\n",
    "    %pdb : make it so the IPython automatically invokes the debugger after any exception.\n",
    "    \n",
    "    %run with -d flag : invokes the debugger before executing any code in the passed script.\n",
    "    \n",
    "See Table 3-4 for debugger commands.\n",
    "\n",
    "     h(elp)      Display command list"
   ]
  },
  {
   "cell_type": "markdown",
   "metadata": {},
   "source": [
    "### Timing Code\n",
    "\n",
    "    %time : runs a statement once, reporting the total execution time.\n",
    "    \n",
    "    %timeit : run a statement multiple times to produce a fairly accurate statement."
   ]
  },
  {
   "cell_type": "code",
   "execution_count": 2,
   "metadata": {
    "collapsed": false
   },
   "outputs": [
    {
     "name": "stdout",
     "output_type": "stream",
     "text": [
      "CPU times: user 11 µs, sys: 4 µs, total: 15 µs\n",
      "Wall time: 13.8 µs\n",
      "CPU times: user 11 µs, sys: 5 µs, total: 16 µs\n",
      "Wall time: 16 µs\n"
     ]
    }
   ],
   "source": [
    "%time loop = [i**2 for i in range(10)]\n",
    "%time loop2 = [i**2 for i in xrange(10)]"
   ]
  },
  {
   "cell_type": "markdown",
   "metadata": {},
   "source": [
    "### Basic Profiling\n",
    "\n",
    "    python -m cProfile -s cumulative cprof_example.py\n",
    "    \n",
    "Macro profiling\n",
    "\n",
    "    %prun -l 7 -s cumulative run_experiment()\n",
    "    \n",
    "    %prun -p -s cumulative cprof_example.py\n",
    "Micro profiling (line profiler)\n",
    "\n",
    "    %lprun -f func1 -f funct2 statement_to_profile\n",
    "    \n",
    "    i.e.\n",
    "    %lprun -f add_and_sum add_and_sum(x, y)\n",
    "    %lprun -f add_and_sum -f call_function call_function()\n",
    "    "
   ]
  },
  {
   "cell_type": "markdown",
   "metadata": {},
   "source": [
    "### Reloading Module dependencies\n",
    "\n",
    "In test_script.py:\n",
    "\n",
    "    import some_lib\n",
    "    reload(some_lib)\n",
    "    \n",
    "You will get a fresh copy of *some_lib* everytime you run *tes_script.py*"
   ]
  },
  {
   "cell_type": "markdown",
   "metadata": {},
   "source": [
    "###Making your Own Class IPython friendly"
   ]
  },
  {
   "cell_type": "code",
   "execution_count": 1,
   "metadata": {
    "collapsed": true
   },
   "outputs": [],
   "source": [
    "class Message:\n",
    "    def __init__(self, msg):\n",
    "        self.msg = msg\n",
    "    \n",
    "    def __repr__(self):\n",
    "        return 'Message: %s' %self.msg"
   ]
  },
  {
   "cell_type": "code",
   "execution_count": 2,
   "metadata": {
    "collapsed": true
   },
   "outputs": [],
   "source": [
    "x = Message('I have a secret')"
   ]
  },
  {
   "cell_type": "code",
   "execution_count": 3,
   "metadata": {
    "collapsed": false
   },
   "outputs": [
    {
     "data": {
      "text/plain": [
       "Message: I have a secret"
      ]
     },
     "execution_count": 3,
     "metadata": {},
     "output_type": "execute_result"
    }
   ],
   "source": [
    "x"
   ]
  },
  {
   "cell_type": "markdown",
   "metadata": {},
   "source": []
  },
  {
   "cell_type": "code",
   "execution_count": 1,
   "metadata": {
    "collapsed": false
   },
   "outputs": [
    {
     "name": "stdout",
     "output_type": "stream",
     "text": [
      "Once deleted, variables cannot be recovered. Proceed (y/[n])? y\n"
     ]
    }
   ],
   "source": [
    "%reset"
   ]
  },
  {
   "cell_type": "code",
   "execution_count": null,
   "metadata": {
    "collapsed": true
   },
   "outputs": [],
   "source": []
  }
 ],
 "metadata": {
  "kernelspec": {
   "display_name": "Python 2",
   "language": "python",
   "name": "python2"
  },
  "language_info": {
   "codemirror_mode": {
    "name": "ipython",
    "version": 2
   },
   "file_extension": ".py",
   "mimetype": "text/x-python",
   "name": "python",
   "nbconvert_exporter": "python",
   "pygments_lexer": "ipython2",
   "version": "2.7.11"
  }
 },
 "nbformat": 4,
 "nbformat_minor": 0
}
