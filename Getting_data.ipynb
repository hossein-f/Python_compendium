{
 "cells": [
  {
   "cell_type": "markdown",
   "metadata": {},
   "source": [
    "# Getting Data"
   ]
  },
  {
   "cell_type": "markdown",
   "metadata": {},
   "source": [
    "## stdin and stdout"
   ]
  },
  {
   "cell_type": "code",
   "execution_count": 62,
   "metadata": {
    "collapsed": false,
    "scrolled": true
   },
   "outputs": [
    {
     "name": "stdout",
     "output_type": "stream",
     "text": [
      "2406\tthe\r\n",
      "1509\tand\r\n",
      "1405\ta\r\n",
      "1140\tof\r\n",
      "1139\tto\r\n",
      "993\ti\r\n",
      "793\tin\r\n",
      "767\the\r\n",
      "749\twas\r\n",
      "530\tthat\r\n",
      "0 times Gatsby in 0 lines\r\n"
     ]
    }
   ],
   "source": [
    "%cat 'F_Scott_Fitzgerald_The_Great_Gatsby.txt' | python count_words.py 'Gatsby'"
   ]
  },
  {
   "cell_type": "code",
   "execution_count": 86,
   "metadata": {
    "collapsed": false
   },
   "outputs": [
    {
     "name": "stdout",
     "output_type": "stream",
     "text": [
      "0\n"
     ]
    }
   ],
   "source": [
    "file_name = 'F_Scott_Fitzgerald_The_Great_Gatsby.txt'\n",
    "\n",
    "import re\n",
    "\n",
    "starts_with= 0\n",
    "\n",
    "with open(file_name, 'r') as f:\n",
    "    for line in f:\n",
    "        if re.match(\"I\",line.strip()):\n",
    "            starts_with_has += 1\n",
    "print starts_with"
   ]
  },
  {
   "cell_type": "code",
   "execution_count": null,
   "metadata": {
    "collapsed": false
   },
   "outputs": [],
   "source": []
  },
  {
   "cell_type": "code",
   "execution_count": null,
   "metadata": {
    "collapsed": true
   },
   "outputs": [],
   "source": []
  }
 ],
 "metadata": {
  "kernelspec": {
   "display_name": "Python 2",
   "language": "python",
   "name": "python2"
  },
  "language_info": {
   "codemirror_mode": {
    "name": "ipython",
    "version": 2
   },
   "file_extension": ".py",
   "mimetype": "text/x-python",
   "name": "python",
   "nbconvert_exporter": "python",
   "pygments_lexer": "ipython2",
   "version": "2.7.11"
  }
 },
 "nbformat": 4,
 "nbformat_minor": 0
}
