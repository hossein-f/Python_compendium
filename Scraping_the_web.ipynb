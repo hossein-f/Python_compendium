{
 "cells": [
  {
   "cell_type": "markdown",
   "metadata": {},
   "source": [
    "# Scraping the web\n",
    "Beatiful soup, requests: Data Science from Scratch"
   ]
  },
  {
   "cell_type": "markdown",
   "metadata": {},
   "source": [
    "### HTML and the Parsing Thereof\n",
    "Find all the books published (up to now) with the title 'data'- \n",
    "on the O'Reilly website, and make a simple plot"
   ]
  },
  {
   "cell_type": "code",
   "execution_count": 123,
   "metadata": {
    "collapsed": false
   },
   "outputs": [],
   "source": [
    "from bs4 import BeautifulSoup\n",
    "import requests\n",
    "\n",
    "website = 'http://www.cosmo.bnl.gov/www/jvazquez/'\n",
    "\n",
    "\n",
    "html = requests.get(website).text\n",
    "soup = BeautifulSoup(html, 'lxml')"
   ]
  },
  {
   "cell_type": "code",
   "execution_count": 124,
   "metadata": {
    "collapsed": false
   },
   "outputs": [
    {
     "data": {
      "text/plain": [
       "<link href=\"https://www.bnl.gov/pga/images/Logo_Small.jpg\" rel=\"icon\" type=\"image/jpg\"/>"
      ]
     },
     "execution_count": 124,
     "metadata": {},
     "output_type": "execute_result"
    }
   ],
   "source": [
    "soup.find('link')\n"
   ]
  },
  {
   "cell_type": "code",
   "execution_count": 125,
   "metadata": {
    "collapsed": false
   },
   "outputs": [
    {
     "data": {
      "text/plain": [
       "u'\\n\\n  \\xa0 '"
      ]
     },
     "execution_count": 125,
     "metadata": {},
     "output_type": "execute_result"
    }
   ],
   "source": [
    "soup.p.text"
   ]
  },
  {
   "cell_type": "code",
   "execution_count": 126,
   "metadata": {
    "collapsed": false
   },
   "outputs": [
    {
     "name": "stdout",
     "output_type": "stream",
     "text": [
      "[<a class=\"navbar-brand\" href=\"http://www.cosmo.bnl.gov/www/jvazquez/\">JA Vazquez</a>, <a class=\"label label-primary\" href=\"http://www.cosmo.bnl.gov/www/jvazquez\" title=\"Articles\"><i class=\"fa fa-folder-open-o\"></i> </a>, <a class=\"label label-info\" href=\"http://www.cosmo.bnl.gov/www/jvazquez\" title=\"Home\">main</a>, <a class=\"label label-info\" href=\"http://www.easycounter.com/\" target=\"_blank\" title=\"Visitors\">\\n<img alt=\"HTML Hit Counter\" border=\"0\" src=\"http://www.easycounter.com/counter.php?vetovazquez\"/></a>, <a class=\"next\" href=\"http://www.cosmo.bnl.gov/www/jvazquez/files/Research.html\" title=\"Next\">Next  <br/><i class=\"fa fa-arrow-circle-right fa-lg\"></i></a>, <a class=\"link-white\" href=\"http://www.cosmo.bnl.gov/www/jvazquez/files/Contacts.html\" title=\"Contact\"> <i class=\"fa fa-envelope\"></i>\\n</a>, <a class=\"link-white\" href=\"https://www.sdss3.org/surveys/boss.php\" target=\"_blank\" title=\"BOSS\">BOSS</a>, <a class=\"link-white\" href=\"https://www.sdss3.org/future/eboss.php\" target=\"_blank\" title=\"eBOSS\">eBOSS</a>, <a class=\"btn-social btn-outline\" href=\"https://github.com/ja-vazquez\" target=\"_blank\" title=\"Github\"><i class=\"fa fa-fw fa-github\"></i></a>, <a class=\"btn-social btn-outline\" href=\"https://bitbucket.org/ja_vazquez/\" target=\"_blank\" title=\"Bitbucket\"><i class=\"fa fa-fw fa-bitbucket\"></i></a>, <a class=\"btn-social btn-outline\" href=\"https://www.linkedin.com/in/jalbertovazquez\" target=\"_blank\" title=\"Linkedin\"><i class=\"fa fa-fw fa-linkedin\"></i></a>, <a class=\"btn-social btn-outline\" href=\"https://www.facebook.com/veto.vazquez\" target=\"_blank\" title=\"Facebook\"><i class=\"fa fa-fw fa-facebook\"></i></a>, <a class=\"btn btn-primary\" href=\"#page-top\">\\n<i class=\"fa fa-chevron-up\"></i>\\n</a>]\n"
     ]
    }
   ],
   "source": [
    "soup.find_all('a')\n",
    "soup.a['href']\n",
    "paras_with_web = [a for a in soup('a') if a.get('href') and a.get('class')]\n",
    "print paras_with_web"
   ]
  },
  {
   "cell_type": "code",
   "execution_count": 127,
   "metadata": {
    "collapsed": false
   },
   "outputs": [
    {
     "name": "stdout",
     "output_type": "stream",
     "text": [
      "[<a class=\"next\" href=\"http://www.cosmo.bnl.gov/www/jvazquez/files/Research.html\" title=\"Next\">Next  <br/><i class=\"fa fa-arrow-circle-right fa-lg\"></i></a>]\n"
     ]
    }
   ],
   "source": [
    "next_parags = soup('a', {'class': 'next'})\n",
    "print next_parags"
   ]
  },
  {
   "cell_type": "code",
   "execution_count": 128,
   "metadata": {
    "collapsed": false
   },
   "outputs": [
    {
     "name": "stdout",
     "output_type": "stream",
     "text": [
      "[<a class=\"next\" href=\"http://www.cosmo.bnl.gov/www/jvazquez/files/Research.html\" title=\"Next\">Next  <br/><i class=\"fa fa-arrow-circle-right fa-lg\"></i></a>]\n"
     ]
    }
   ],
   "source": [
    "next_parags2 = soup('a', 'next')\n",
    "print next_parags2"
   ]
  },
  {
   "cell_type": "code",
   "execution_count": null,
   "metadata": {
    "collapsed": true
   },
   "outputs": [],
   "source": []
  },
  {
   "cell_type": "code",
   "execution_count": null,
   "metadata": {
    "collapsed": true
   },
   "outputs": [],
   "source": []
  },
  {
   "cell_type": "markdown",
   "metadata": {},
   "source": [
    "# O'Reilly Books about data"
   ]
  },
  {
   "cell_type": "code",
   "execution_count": 129,
   "metadata": {
    "collapsed": false
   },
   "outputs": [],
   "source": [
    "url = 'http://shop.oreilly.com/category/browse-subjects/data.do?sortby=publicationDate&page=1'\n",
    "soup = BeautifulSoup(requests.get(url).text, 'lxml')"
   ]
  },
  {
   "cell_type": "code",
   "execution_count": 130,
   "metadata": {
    "collapsed": false,
    "scrolled": true
   },
   "outputs": [
    {
     "name": "stdout",
     "output_type": "stream",
     "text": [
      "30\n"
     ]
    }
   ],
   "source": [
    "tds = soup('td', 'thumbtext')\n",
    "print len(tds)"
   ]
  },
  {
   "cell_type": "markdown",
   "metadata": {},
   "source": [
    "#### Videos"
   ]
  },
  {
   "cell_type": "code",
   "execution_count": 140,
   "metadata": {
    "collapsed": false
   },
   "outputs": [
    {
     "name": "stdout",
     "output_type": "stream",
     "text": [
      "<td class=\"thumbtext\">\n",
      "<!-- SC-2012-83268 commented <script type=\"text/javascript\" src=\"/text/pwr/engine/js/full.js\"></script> -->\n",
      "<script type=\"text/javascript\">\r\n",
      "\t\tvar pr_locale = 'en_US';\r\n",
      "\t\tvar pr_zip_location='/text';\r\n",
      "\t\tvar pr_style_sheet='/includes/reviews_social.css ';\r\n",
      "\t\tvar pr_page_id = '9781785286315.IP'; \r\n",
      "\t</script>\n",
      "<div style=\"float:left;\">\n",
      "<div class=\"thumbcontainer\">\n",
      "<div class=\"thumbdiv\"><a href=\"/product/9781785286315.do\"><img alt=\"Regression Analysis with Python\" border=\"0\" src=\"http://akamaicovers.oreilly.com/images/9781785286315/bkt.gif\" width=\"85\"/></a></div>\n",
      "<a href=\"https://library.oreilly.com/book/9781785286315/_/toc\" id=\"search-inside\" onclick=\"var s=s_gi(s_account); s.products=';shop-reader-searchin-9781785286315'; s.eVar23='shop-reader-searchin-9781785286315'; s.events='event5'; s.linkTrackVars='eVar23,products,events'; s.linkTrackEvents='event5'; s.tl(this,'o','Ad Click');\">Search Inside and Read</a>\n",
      "</div>\n",
      "</div>\n",
      "<div class=\"widthchange\" style=\"float:left; width:154px;\">\n",
      "<div class=\"thumbheader\">\n",
      "<a href=\"/product/9781785286315.do\">Regression Analysis with Python</a>\n",
      "</div>\n",
      "<div class=\"AuthorName\">By Luca Massaron, Alberto Boschetti</div>\n",
      "<span class=\"directorydate\">\r\n",
      "\t\t\t\t\t\t\t\r\n",
      "\t\t\t\t\t\t\t\r\n",
      "\r\n",
      "\t\t\t\t\t\t\t\r\n",
      "\t\t\t\t\t\t\t\r\n",
      "\r\n",
      "\t\t\t\t\t\t\t\r\n",
      "\t\t\t\t\t\t\t\t\r\n",
      "\t\t\t\t\t\t\t\t\r\n",
      "\t\t\t\t\t\t\t\t\tFebruary 2016\r\n",
      "\t\t\t\t\t\t\t\t\r\n",
      "\t\t\t\t\t\t\t\r\n",
      "\t\t\t\t\t\t</span>\n",
      "<!-- Begin PowerReviews snippet -->\n",
      "<div class=\"powerblock\">\n",
      "<div class=\"CategorySnippet\">\n",
      "<div class=\"ReviewSnippet\">\n",
      "<div id=\"hasReviews9781785286315.IP\" style=\"display:none\">\n",
      "<script type=\"text/javascript\">\r\n",
      "\t\t\t\t\t\t        POWERREVIEWS.display.snippet(document, {\r\n",
      "\t\t\t\t\t\t\t\tpr_page_id : '9781785286315.IP',\r\n",
      "\t\t\t\t\t\t\t\tpr_read_review : '',\r\n",
      "\t\t\t\t\t\t\t\tpr_write_review : ''\r\n",
      "\t\t\t\t\t\t\t});\r\n",
      "\t\t\t\t\t\t\t\r\n",
      "\t\t\t\t\t\t\t\r\n",
      "\t\t\t\t\t\t</script>\n",
      "</div>\n",
      "<div id=\"noReviews9781785286315.IP\" style=\"display:none;padding:0px 0 8px 0;\">\n",
      "<script type=\"text/javascript\">document.write('Be the first to <a href=\"/product/9781785286315/ReviewSubmit.do?sortby=publicationDate?pageId=9781785286315.IP\">write a review <br/></a>')</script>\n",
      "</div>\n",
      "<script type=\"text/javascript\">\r\n",
      "\t\t\t\t\t\t\t\tvar pr_data_callback = function (info) { //create this info object to pass to the call-back function, and it runs the logic\r\n",
      "\t\t\t\t\t\t\t\t\tif (info.getFullReviewCount() > 0) { //if we have reviews on this product\r\n",
      "\t\t\t\t\t\t\t\t\t\tdocument.getElementById('hasReviews9781785286315.IP').style.display = \"block\";}\r\n",
      "\t\t\t\t\t\t\t\t\telse {document.getElementById('noReviews9781785286315.IP').style.display = \"none\";}\r\n",
      "\t\t\t\t\t\t\t\t\t};\r\n",
      "\t\t\t\t\t\t\t\tprData (pr_data_callback);   //now pass the function to our javascript function for evaluation\r\n",
      "\t\t\t\t\t </script>\n",
      "</div>\n",
      "</div>\n",
      "</div>\n",
      "<!-- End PowerReviews snippet -->\n",
      "<div style=\"clear:both;\">\n",
      "<div content=\"SKUPrice\" id=\"251875\" iselectronicmedia=\"true \" optionpk=\"100011\">\n",
      "<span class=\"pricelabel\">\r\n",
      "\t\t\t\t\t\r\n",
      "\t\t\t\t\t\t\r\n",
      "\t\t\t\t\t\t\r\n",
      "\t\t\t\t\t\t\t\r\n",
      "\t\t\t\t\t\t\tEbook\r\n",
      "\t\t\t\t\t\t\r\n",
      "\t\t\t\t\t:\r\n",
      "\t\t\t\t\t\r\n",
      "\t\t\t\t\t\r\n",
      "\t\t\t\t\t\r\n",
      "\t\t\t\t\t\r\n",
      "\t\t\t\t\t\r\n",
      "\t\t\t\t\t\r\n",
      "\t\t\t\t\t\r\n",
      "\t\t\t\t\t\r\n",
      "\t\t\t\t\t<span class=\"price\"> $35.99</span>\n",
      "</span>\n",
      "</div>\n",
      "</div>\n",
      "</div>\n",
      "</td>\n"
     ]
    }
   ],
   "source": [
    "#search for 'Videos' --> If span class ='pricelabel' has 'Video' in it\n",
    "print tds[-1]\n"
   ]
  },
  {
   "cell_type": "code",
   "execution_count": 132,
   "metadata": {
    "collapsed": false
   },
   "outputs": [
    {
     "name": "stdout",
     "output_type": "stream",
     "text": [
      "[<span class=\"pricelabel\">\\r\\n\\t\\t\\t\\t\\t\\r\\n\\t\\t\\t\\t\\t\\t\\r\\n\\t\\t\\t\\t\\t\\t\\r\\n\\t\\t\\t\\t\\t\\t\\t\\r\\n\\t\\t\\t\\t\\t\\t\\tVideo\\r\\n\\t\\t\\t\\t\\t\\t\\r\\n\\t\\t\\t\\t\\t:\\r\\n\\t\\t\\t\\t\\t\\r\\n\\t\\t\\t\\t\\t\\r\\n\\t\\t\\t\\t\\t\\r\\n\\t\\t\\t\\t\\t\\r\\n\\t\\t\\t\\t\\t\\r\\n\\t\\t\\t\\t\\t\\r\\n\\t\\t\\t\\t\\t\\r\\n\\t\\t\\t\\t\\t\\r\\n\\t\\t\\t\\t\\t<span class=\"price\">\\xa0$74.99</span>\\n</span>]\n"
     ]
    }
   ],
   "source": [
    "print tds[4]('span', 'pricelabel')"
   ]
  },
  {
   "cell_type": "code",
   "execution_count": 133,
   "metadata": {
    "collapsed": false
   },
   "outputs": [
    {
     "name": "stdout",
     "output_type": "stream",
     "text": [
      "<span class=\"pricelabel\">\r\n",
      "\t\t\t\t\t\r\n",
      "\t\t\t\t\t\t\r\n",
      "\t\t\t\t\t\t\r\n",
      "\t\t\t\t\t\t\t\r\n",
      "\t\t\t\t\t\t\tVideo\r\n",
      "\t\t\t\t\t\t\r\n",
      "\t\t\t\t\t:\r\n",
      "\t\t\t\t\t\r\n",
      "\t\t\t\t\t\r\n",
      "\t\t\t\t\t\r\n",
      "\t\t\t\t\t\r\n",
      "\t\t\t\t\t\r\n",
      "\t\t\t\t\t\r\n",
      "\t\t\t\t\t\r\n",
      "\t\t\t\t\t\r\n",
      "\t\t\t\t\t<span class=\"price\"> $74.99</span>\n",
      "</span>\n"
     ]
    }
   ],
   "source": [
    "print tds[4]('span', 'pricelabel')[0]"
   ]
  },
  {
   "cell_type": "code",
   "execution_count": 134,
   "metadata": {
    "collapsed": false
   },
   "outputs": [
    {
     "name": "stdout",
     "output_type": "stream",
     "text": [
      "Video\r\n",
      "\t\t\t\t\t\t\r\n",
      "\t\t\t\t\t:\r\n",
      "\t\t\t\t\t\r\n",
      "\t\t\t\t\t\r\n",
      "\t\t\t\t\t\r\n",
      "\t\t\t\t\t\r\n",
      "\t\t\t\t\t\r\n",
      "\t\t\t\t\t\r\n",
      "\t\t\t\t\t\r\n",
      "\t\t\t\t\t\r\n",
      "\t\t\t\t\t $74.99\n"
     ]
    }
   ],
   "source": [
    "print  tds[4]('span', 'pricelabel')[0].text.strip()"
   ]
  },
  {
   "cell_type": "code",
   "execution_count": 135,
   "metadata": {
    "collapsed": false
   },
   "outputs": [
    {
     "name": "stdout",
     "output_type": "stream",
     "text": [
      "23\n"
     ]
    }
   ],
   "source": [
    "def is_video(td):\n",
    "    pricelabels = td('span', 'pricelabel')\n",
    "    return (pricelabels[0].text.strip().startswith('Video'))\n",
    "\n",
    "print len([tdz for tdz in tds if not is_video(tdz)])"
   ]
  },
  {
   "cell_type": "markdown",
   "metadata": {},
   "source": [
    "#### Title"
   ]
  },
  {
   "cell_type": "code",
   "execution_count": 136,
   "metadata": {
    "collapsed": false
   },
   "outputs": [
    {
     "name": "stdout",
     "output_type": "stream",
     "text": [
      "Julia for Data Science\n"
     ]
    }
   ],
   "source": [
    "#seems that the title is within <div class=\"thumbheader\"> <a ....\n",
    "\n",
    "title = tds[4].find('div', 'thumbheader').a.text\n",
    "print title"
   ]
  },
  {
   "cell_type": "code",
   "execution_count": 137,
   "metadata": {
    "collapsed": false
   },
   "outputs": [
    {
     "name": "stdout",
     "output_type": "stream",
     "text": [
      "By Raghav Bali, Dipanjan Sarkar\n"
     ]
    }
   ],
   "source": [
    "#Same for title\n",
    "\n",
    "author = tds[3].find('div', 'AuthorName').text\n",
    "print author"
   ]
  },
  {
   "cell_type": "code",
   "execution_count": 141,
   "metadata": {
    "collapsed": false
   },
   "outputs": [
    {
     "name": "stdout",
     "output_type": "stream",
     "text": [
      "[u'Luca Massaron', u'Alberto Boschetti']\n"
     ]
    }
   ],
   "source": [
    "import re\n",
    "\n",
    "author_name = td.find('div', 'AuthorName').text\n",
    "authors = [x.strip() for x in re.sub('^By ', '', author_name).split(',')]\n",
    "print authors"
   ]
  },
  {
   "cell_type": "markdown",
   "metadata": {},
   "source": [
    "#### date"
   ]
  },
  {
   "cell_type": "code",
   "execution_count": 146,
   "metadata": {
    "collapsed": false
   },
   "outputs": [
    {
     "name": "stdout",
     "output_type": "stream",
     "text": [
      "February 2016\n"
     ]
    }
   ],
   "source": [
    "date = td.find('span', 'directorydate').text.strip()\n",
    "print date"
   ]
  },
  {
   "cell_type": "markdown",
   "metadata": {},
   "source": [
    "### All together"
   ]
  },
  {
   "cell_type": "code",
   "execution_count": 147,
   "metadata": {
    "collapsed": true
   },
   "outputs": [],
   "source": [
    "def book_info(td):\n",
    "    title = td.find('div', 'thumbheader').a.text\n",
    "    by_author = td.find('div', 'AuthorName').text\n",
    "    authors = [x.strip() for x in re.sub('^By ', '', by_author).split(',')]\n",
    "    date = td.find('span', 'directorydate').text.strip()\n",
    "    \n",
    "    return {\n",
    "        'title': title,\n",
    "        'authors': authors,\n",
    "        'date': date\n",
    "    }"
   ]
  },
  {
   "cell_type": "code",
   "execution_count": 170,
   "metadata": {
    "collapsed": false
   },
   "outputs": [
    {
     "name": "stdout",
     "output_type": "stream",
     "text": [
      "souping page 1 , 0 found so far\n",
      "souping page 2 , 23 found so far\n",
      "souping page 3 , 47 found so far\n",
      "souping page 4 , 72 found so far\n",
      "souping page 5 , 96 found so far\n",
      "souping page 6 , 119 found so far\n",
      "souping page 7 , 145 found so far\n",
      "souping page 8 , 168 found so far\n",
      "souping page 9 , 190 found so far\n",
      "souping page 10 , 215 found so far\n",
      "souping page 11 , 243 found so far\n",
      "souping page 12 , 268 found so far\n",
      "souping page 13 , 292 found so far\n",
      "souping page 14 , 316 found so far\n",
      "souping page 15 , 340 found so far\n",
      "souping page 16 , 366 found so far\n",
      "souping page 17 , 388 found so far\n",
      "souping page 18 , 412 found so far\n",
      "souping page 19 , 438 found so far\n",
      "souping page 20 , 464 found so far\n",
      "souping page 21 , 490 found so far\n",
      "souping page 22 , 519 found so far\n",
      "souping page 23 , 546 found so far\n",
      "souping page 24 , 576 found so far\n",
      "souping page 25 , 604 found so far\n",
      "souping page 26 , 629 found so far\n",
      "souping page 27 , 658 found so far\n",
      "souping page 28 , 687 found so far\n",
      "souping page 29 , 714 found so far\n",
      "souping page 30 , 740 found so far\n",
      "souping page 31 , 767 found so far\n",
      "souping page 32 , 792 found so far\n",
      "souping page 33 , 820 found so far\n",
      "souping page 34 , 848 found so far\n",
      "souping page 35 , 876 found so far\n",
      "souping page 36 , 902 found so far\n",
      "souping page 37 , 930 found so far\n",
      "souping page 38 , 960 found so far\n",
      "souping page 39 , 990 found so far\n",
      "souping page 40 , 1020 found so far\n",
      "souping page 41 , 1050 found so far\n",
      "souping page 42 , 1080 found so far\n",
      "souping page 43 , 1110 found so far\n",
      "souping page 44 , 1140 found so far\n"
     ]
    }
   ],
   "source": [
    "from bs4 import BeautifulSoup\n",
    "import requests\n",
    "from time import sleep\n",
    "\n",
    "base_url = 'http://shop.oreilly.com/category/browse-subjects/data.do?sortby=publicationDate&page='\n",
    "\n",
    "books = []\n",
    "NUM_PAGES = 44\n",
    "\n",
    "for page_num in range(1, NUM_PAGES+1):\n",
    "    print 'souping page', page_num, ',', len(books), 'found so far'\n",
    "    url = base_url + str(page_num)\n",
    "    soup = BeautifulSoup(requests.get(url).text, 'lxml')\n",
    "    \n",
    "    for td in soup('td', 'thumbtext'):\n",
    "        if not is_video(td):\n",
    "            books.append(book_info(td))\n",
    "        \n",
    "    sleep(30)"
   ]
  },
  {
   "cell_type": "markdown",
   "metadata": {},
   "source": [
    "### Plotting"
   ]
  },
  {
   "cell_type": "code",
   "execution_count": 176,
   "metadata": {
    "collapsed": false
   },
   "outputs": [
    {
     "name": "stdout",
     "output_type": "stream",
     "text": [
      "Counter({2015: 247, 2013: 200, 2014: 166, 2012: 104, 2011: 79, 2010: 70, 2009: 50, 2006: 35, 2007: 22, 2008: 22, 2002: 20, 2004: 20, 2005: 19, 2001: 17, 2003: 16, 2000: 5, 1999: 2, 1985: 1, 1991: 1, 1992: 1, 1996: 1, 1997: 1, 1998: 1})\n"
     ]
    },
    {
     "data": {
      "image/png": "[encoded data removed]",
      "text/plain": [
       "<matplotlib.figure.Figure at 0x11147b650>"
      ]
     },
     "metadata": {},
     "output_type": "display_data"
    }
   ],
   "source": [
    "from collections import Counter\n",
    "import matplotlib.pyplot as plt\n",
    "%matplotlib inline \n",
    "\n",
    "def get_year(book):\n",
    "    return int(book['date'].split()[1])\n",
    "\n",
    "year_counts = Counter(get_year(book) for book in books\n",
    "                     if get_year(book) <= 2015)\n",
    "print year_counts\n",
    "years = sorted(year_counts)\n",
    "book_counts = [year_counts[year] for year in years]\n",
    "plt.plot(years, book_counts)\n",
    "plt.yscale('log')\n",
    "plt.grid()\n",
    "plt.ylabel('#Data books')\n",
    "plt.show()"
   ]
  },
  {
   "cell_type": "code",
   "execution_count": null,
   "metadata": {
    "collapsed": true
   },
   "outputs": [],
   "source": []
  },
  {
   "cell_type": "code",
   "execution_count": null,
   "metadata": {
    "collapsed": true
   },
   "outputs": [],
   "source": []
  },
  {
   "cell_type": "markdown",
   "metadata": {},
   "source": [
    "# Yellow Pages, Coffee places\n",
    "Coding For Entrepreneurs [link](https://www.youtube.com/watch?v=3xQTJi2tqgk&index=1&list=PLyFizHxKlcur5Xrzz7IywssC9lFZRb7VF)"
   ]
  },
  {
   "cell_type": "code",
   "execution_count": 2,
   "metadata": {
    "collapsed": true
   },
   "outputs": [],
   "source": [
    "import requests\n",
    "from bs4 import BeautifulSoup"
   ]
  },
  {
   "cell_type": "code",
   "execution_count": 80,
   "metadata": {
    "collapsed": false
   },
   "outputs": [
    {
     "name": "stdout",
     "output_type": "stream",
     "text": [
      "Joe the Art of Coffee\n",
      "Cafe Sabarsky\n",
      "Cafe Evergreen\n",
      "Cafe De Bruxelles\n",
      "Starbucks Coffee\n",
      "McNulty's Tea & Coffee Co\n",
      "12 Chairs\n",
      "Caffe Dante\n",
      "Peter Mcmanus Cafe\n",
      "Via della Pace\n",
      "Cafe Pick Me Up\n",
      "Epistrophy Cafe\n",
      "Vbar\n",
      "Circle West Diner & Cafe\n",
      "Atlas Cafe\n",
      "Aroma Espresso Bar\n",
      "Manhattan Espresso Cafe\n",
      "Sugar Cafe\n",
      "Push Cafe\n",
      "Anyway Cafe\n",
      "Caffe Linda\n",
      "Guy & Gallard\n",
      "Despresso\n",
      "Choux Factory\n",
      "Lan Cafe\n",
      "Ruben's Empanadas\n",
      "Emporio\n",
      "Caffe Cielo\n",
      "Cafe Angelique\n",
      "Think Coffee\n"
     ]
    }
   ],
   "source": [
    "url = 'http://www.yellowpages.com/search?search_terms=coffee&geo_location_terms=New+York+City%2C+NY'\n",
    "\n",
    "url_2 = url + \"&page=\" + str(2)\n",
    "\n",
    "r = requests.get(url_2)\n",
    "\n",
    "soup = BeautifulSoup(r.content)\n",
    "\n",
    "links = soup.find_all(\"a\")\n",
    "\n",
    "#for link in links:\n",
    "#    print link.text, link.get(\"href\")\n",
    "\n",
    "g_data = soup.find_all(\"div\", {\"class\": \"info\"})\n",
    "\n",
    "for item in g_data:\n",
    "    print item.contents[0].find_all(\"a\", {\"class\": \"business-name\"})[0].text\n"
   ]
  },
  {
   "cell_type": "code",
   "execution_count": 84,
   "metadata": {
    "collapsed": false
   },
   "outputs": [
    {
     "name": "stdout",
     "output_type": "stream",
     "text": [
      "(212) 924-6750\n",
      "(212) 288-0665\n",
      "(212) 744-3266\n",
      "(212) 206-1830\n",
      "(212) 869-0191\n",
      "(212) 242-5351\n",
      "(212) 254-8640\n",
      "(212) 982-5275\n",
      "(212) 929-9691\n",
      "(212) 253-5803\n",
      "(212) 673-7231\n",
      "(212) 966-0904\n",
      "(212) 253-5740\n",
      "(212) 397-3131\n",
      "(212) 539-0966\n",
      "(212) 533-1094\n",
      "(212) 832-3010\n",
      "(212) 260-1122\n",
      "(212) 477-8100\n",
      "(212) 533-3412\n",
      "(646) 497-1818\n",
      "(212) 683-3044\n",
      "(212) 982-7030\n",
      "(212) 223-0730\n",
      "(212) 228-8325\n",
      "(212) 334-3351\n",
      "(212) 966-1234\n",
      "(212) 246-9555\n",
      "(212) 475-3500\n",
      "(212) 228-6226\n"
     ]
    }
   ],
   "source": [
    "for item in g_data:\n",
    "    try:\n",
    "        print item.contents[1].find_all(\"div\", {\"itemprop\": \"telephone\"})[0].text\n",
    "    except:\n",
    "        pass"
   ]
  },
  {
   "cell_type": "code",
   "execution_count": 85,
   "metadata": {
    "collapsed": false
   },
   "outputs": [
    {
     "name": "stdout",
     "output_type": "stream",
     "text": [
      "141 Waverly Pl\n",
      "New York\n",
      "NY\n",
      "10014\n",
      "--\n",
      "1048 5th Ave\n",
      "New York\n",
      "NY\n",
      "10028\n",
      "--\n",
      "1288 1st Ave Frnt\n",
      "New York\n",
      "NY\n",
      "10021\n",
      "--\n",
      "118 Greenwich Ave\n",
      "New York\n",
      "NY\n",
      "10011\n",
      "--\n",
      "1460 Broadway\n",
      "New York\n",
      "NY\n",
      "10036\n",
      "--\n",
      "109 Christopher St\n",
      "New York\n",
      "NY\n",
      "10014\n",
      "--\n",
      "56 Macdougal St\n",
      "New York\n",
      "NY\n",
      "10012\n",
      "--\n",
      "7981 Macdougal St\n",
      "New York\n",
      "NY\n",
      "10012\n",
      "--\n",
      "152 7th Ave\n",
      "New York\n",
      "NY\n",
      "10011\n",
      "--\n",
      "48 E 7th St\n",
      "New York\n",
      "NY\n",
      "10003\n",
      "--\n",
      "145 Avenue A\n",
      "New York\n",
      "NY\n",
      "10009\n",
      "--\n",
      "200 Mott St\n",
      "New York\n",
      "NY\n",
      "10012\n",
      "--\n",
      "225 Sullivan St\n",
      "New York\n",
      "NY\n",
      "10012\n",
      "--\n",
      "313 W 57th St\n",
      "New York\n",
      "NY\n",
      "10019\n",
      "--\n",
      "73 2nd Ave\n",
      "New York\n",
      "NY\n",
      "10003\n",
      "--\n",
      "145 Greene St\n",
      "New York\n",
      "NY\n",
      "10012\n",
      "--\n",
      "146 E 49th St Frnt 1\n",
      "New York\n",
      "NY\n",
      "10017\n",
      "--\n",
      "200 Allen St\n",
      "New York\n",
      "NY\n",
      "10002\n",
      "--\n",
      "294 3rd Ave\n",
      "New York\n",
      "NY\n",
      "10010\n",
      "--\n",
      "32 E 2nd St\n",
      "New York\n",
      "NY\n",
      "10003\n",
      "--\n",
      "145 E 49th St\n",
      "New York\n",
      "NY\n",
      "10017\n",
      "--\n",
      "459 Park Ave S\n",
      "New York\n",
      "NY\n",
      "10016\n",
      "--\n",
      "100 Stanton St Frnt 1\n",
      "New York\n",
      "NY\n",
      "10002\n",
      "--\n",
      "865 United Nations Plz # 3\n",
      "New York\n",
      "NY\n",
      "10017\n",
      "--\n",
      "342 E 6th St Frnt A\n",
      "New York\n",
      "NY\n",
      "10003\n",
      "--\n",
      "505 Broome St\n",
      "New York\n",
      "NY\n",
      "10013\n",
      "--\n",
      "231 Mott St Frnt A\n",
      "New York\n",
      "NY\n",
      "10012\n",
      "--\n",
      "881 8th Ave\n",
      "New York\n",
      "NY\n",
      "10019\n",
      "--\n",
      "68 Bleecker St\n",
      "New York\n",
      "NY\n",
      "10012\n",
      "--\n",
      "248 Mercer St\n",
      "New York\n",
      "NY\n",
      "10012\n",
      "--\n"
     ]
    }
   ],
   "source": [
    "for item in g_data:\n",
    "    try:\n",
    "        print item.contents[1].find_all(\"span\", {\"class\": \"street-address\"})[0].text \n",
    "    except:\n",
    "        pass\n",
    "    try:\n",
    "        print item.contents[1].find_all(\"span\", {\"class\": \"locality\"})[0].text.replace(',','') \n",
    "    except:\n",
    "        pass\n",
    "    try:\n",
    "        print item.contents[1].find_all(\"span\", {\"itemprop\": \"addressRegion\"})[0].text \n",
    "    except:\n",
    "        pass\n",
    "    try:\n",
    "        print item.contents[1].find_all(\"span\", {\"itemprop\": \"postalCode\"})[0].text \n",
    "    except:\n",
    "        pass\n",
    "    print '--'\n"
   ]
  },
  {
   "cell_type": "code",
   "execution_count": null,
   "metadata": {
    "collapsed": true
   },
   "outputs": [],
   "source": []
  }
 ],
 "metadata": {
  "kernelspec": {
   "display_name": "Python 2",
   "language": "python",
   "name": "python2"
  },
  "language_info": {
   "codemirror_mode": {
    "name": "ipython",
    "version": 2
   },
   "file_extension": ".py",
   "mimetype": "text/x-python",
   "name": "python",
   "nbconvert_exporter": "python",
   "pygments_lexer": "ipython2",
   "version": "2.7.11"
  }
 },
 "nbformat": 4,
 "nbformat_minor": 0
}
