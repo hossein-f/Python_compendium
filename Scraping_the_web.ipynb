{
 "cells": [
  {
   "cell_type": "markdown",
   "metadata": {},
   "source": [
    "# Scraping the web"
   ]
  },
  {
   "cell_type": "markdown",
   "metadata": {},
   "source": [
    "### HTML and the Parsing Thereof"
   ]
  },
  {
   "cell_type": "code",
   "execution_count": 123,
   "metadata": {
    "collapsed": false
   },
   "outputs": [],
   "source": [
    "from bs4 import BeautifulSoup\n",
    "import requests\n",
    "\n",
    "website = 'http://www.cosmo.bnl.gov/www/jvazquez/'\n",
    "\n",
    "\n",
    "html = requests.get(website).text\n",
    "soup = BeautifulSoup(html, 'lxml')"
   ]
  },
  {
   "cell_type": "code",
   "execution_count": 124,
   "metadata": {
    "collapsed": false
   },
   "outputs": [
    {
     "data": {
      "text/plain": [
       "<link href=\"https://www.bnl.gov/pga/images/Logo_Small.jpg\" rel=\"icon\" type=\"image/jpg\"/>"
      ]
     },
     "execution_count": 124,
     "metadata": {},
     "output_type": "execute_result"
    }
   ],
   "source": [
    "soup.find('link')\n"
   ]
  },
  {
   "cell_type": "code",
   "execution_count": 125,
   "metadata": {
    "collapsed": false
   },
   "outputs": [
    {
     "data": {
      "text/plain": [
       "u'\\n\\n  \\xa0 '"
      ]
     },
     "execution_count": 125,
     "metadata": {},
     "output_type": "execute_result"
    }
   ],
   "source": [
    "soup.p.text"
   ]
  },
  {
   "cell_type": "code",
   "execution_count": 126,
   "metadata": {
    "collapsed": false
   },
   "outputs": [
    {
     "name": "stdout",
     "output_type": "stream",
     "text": [
      "[<a class=\"navbar-brand\" href=\"http://www.cosmo.bnl.gov/www/jvazquez/\">JA Vazquez</a>, <a class=\"label label-primary\" href=\"http://www.cosmo.bnl.gov/www/jvazquez\" title=\"Articles\"><i class=\"fa fa-folder-open-o\"></i> </a>, <a class=\"label label-info\" href=\"http://www.cosmo.bnl.gov/www/jvazquez\" title=\"Home\">main</a>, <a class=\"label label-info\" href=\"http://www.easycounter.com/\" target=\"_blank\" title=\"Visitors\">\\n<img alt=\"HTML Hit Counter\" border=\"0\" src=\"http://www.easycounter.com/counter.php?vetovazquez\"/></a>, <a class=\"next\" href=\"http://www.cosmo.bnl.gov/www/jvazquez/files/Research.html\" title=\"Next\">Next  <br/><i class=\"fa fa-arrow-circle-right fa-lg\"></i></a>, <a class=\"link-white\" href=\"http://www.cosmo.bnl.gov/www/jvazquez/files/Contacts.html\" title=\"Contact\"> <i class=\"fa fa-envelope\"></i>\\n</a>, <a class=\"link-white\" href=\"https://www.sdss3.org/surveys/boss.php\" target=\"_blank\" title=\"BOSS\">BOSS</a>, <a class=\"link-white\" href=\"https://www.sdss3.org/future/eboss.php\" target=\"_blank\" title=\"eBOSS\">eBOSS</a>, <a class=\"btn-social btn-outline\" href=\"https://github.com/ja-vazquez\" target=\"_blank\" title=\"Github\"><i class=\"fa fa-fw fa-github\"></i></a>, <a class=\"btn-social btn-outline\" href=\"https://bitbucket.org/ja_vazquez/\" target=\"_blank\" title=\"Bitbucket\"><i class=\"fa fa-fw fa-bitbucket\"></i></a>, <a class=\"btn-social btn-outline\" href=\"https://www.linkedin.com/in/jalbertovazquez\" target=\"_blank\" title=\"Linkedin\"><i class=\"fa fa-fw fa-linkedin\"></i></a>, <a class=\"btn-social btn-outline\" href=\"https://www.facebook.com/veto.vazquez\" target=\"_blank\" title=\"Facebook\"><i class=\"fa fa-fw fa-facebook\"></i></a>, <a class=\"btn btn-primary\" href=\"#page-top\">\\n<i class=\"fa fa-chevron-up\"></i>\\n</a>]\n"
     ]
    }
   ],
   "source": [
    "soup.find_all('a')\n",
    "soup.a['href']\n",
    "paras_with_web = [a for a in soup('a') if a.get('href') and a.get('class')]\n",
    "print paras_with_web"
   ]
  },
  {
   "cell_type": "code",
   "execution_count": 127,
   "metadata": {
    "collapsed": false
   },
   "outputs": [
    {
     "name": "stdout",
     "output_type": "stream",
     "text": [
      "[<a class=\"next\" href=\"http://www.cosmo.bnl.gov/www/jvazquez/files/Research.html\" title=\"Next\">Next  <br/><i class=\"fa fa-arrow-circle-right fa-lg\"></i></a>]\n"
     ]
    }
   ],
   "source": [
    "next_parags = soup('a', {'class': 'next'})\n",
    "print next_parags"
   ]
  },
  {
   "cell_type": "code",
   "execution_count": 128,
   "metadata": {
    "collapsed": false
   },
   "outputs": [
    {
     "name": "stdout",
     "output_type": "stream",
     "text": [
      "[<a class=\"next\" href=\"http://www.cosmo.bnl.gov/www/jvazquez/files/Research.html\" title=\"Next\">Next  <br/><i class=\"fa fa-arrow-circle-right fa-lg\"></i></a>]\n"
     ]
    }
   ],
   "source": [
    "next_parags2 = soup('a', 'next')\n",
    "print next_parags2"
   ]
  },
  {
   "cell_type": "markdown",
   "metadata": {},
   "source": [
    "## O'Reilly Books about data"
   ]
  },
  {
   "cell_type": "code",
   "execution_count": 129,
   "metadata": {
    "collapsed": false
   },
   "outputs": [],
   "source": [
    "url = 'http://shop.oreilly.com/category/browse-subjects/data.do?sortby=publicationDate&page=1'\n",
    "soup = BeautifulSoup(requests.get(url).text, 'lxml')"
   ]
  },
  {
   "cell_type": "code",
   "execution_count": 130,
   "metadata": {
    "collapsed": false
   },
   "outputs": [
    {
     "name": "stdout",
     "output_type": "stream",
     "text": [
      "30\n"
     ]
    }
   ],
   "source": [
    "tds = soup('td', 'thumbtext')\n",
    "print len(tds)"
   ]
  },
  {
   "cell_type": "markdown",
   "metadata": {},
   "source": [
    "#### Videos"
   ]
  },
  {
   "cell_type": "code",
   "execution_count": 140,
   "metadata": {
    "collapsed": false
   },
   "outputs": [
    {
     "name": "stdout",
     "output_type": "stream",
     "text": [
      "<td class=\"thumbtext\">\n",
      "<!-- SC-2012-83268 commented <script type=\"text/javascript\" src=\"/text/pwr/engine/js/full.js\"></script> -->\n",
      "<script type=\"text/javascript\">\r\n",
      "\t\tvar pr_locale = 'en_US';\r\n",
      "\t\tvar pr_zip_location='/text';\r\n",
      "\t\tvar pr_style_sheet='/includes/reviews_social.css ';\r\n",
      "\t\tvar pr_page_id = '9781785286315.IP'; \r\n",
      "\t</script>\n",
      "<div style=\"float:left;\">\n",
      "<div class=\"thumbcontainer\">\n",
      "<div class=\"thumbdiv\"><a href=\"/product/9781785286315.do\"><img alt=\"Regression Analysis with Python\" border=\"0\" src=\"http://akamaicovers.oreilly.com/images/9781785286315/bkt.gif\" width=\"85\"/></a></div>\n",
      "<a href=\"https://library.oreilly.com/book/9781785286315/_/toc\" id=\"search-inside\" onclick=\"var s=s_gi(s_account); s.products=';shop-reader-searchin-9781785286315'; s.eVar23='shop-reader-searchin-9781785286315'; s.events='event5'; s.linkTrackVars='eVar23,products,events'; s.linkTrackEvents='event5'; s.tl(this,'o','Ad Click');\">Search Inside and Read</a>\n",
      "</div>\n",
      "</div>\n",
      "<div class=\"widthchange\" style=\"float:left; width:154px;\">\n",
      "<div class=\"thumbheader\">\n",
      "<a href=\"/product/9781785286315.do\">Regression Analysis with Python</a>\n",
      "</div>\n",
      "<div class=\"AuthorName\">By Luca Massaron, Alberto Boschetti</div>\n",
      "<span class=\"directorydate\">\r\n",
      "\t\t\t\t\t\t\t\r\n",
      "\t\t\t\t\t\t\t\r\n",
      "\r\n",
      "\t\t\t\t\t\t\t\r\n",
      "\t\t\t\t\t\t\t\r\n",
      "\r\n",
      "\t\t\t\t\t\t\t\r\n",
      "\t\t\t\t\t\t\t\t\r\n",
      "\t\t\t\t\t\t\t\t\r\n",
      "\t\t\t\t\t\t\t\t\tFebruary 2016\r\n",
      "\t\t\t\t\t\t\t\t\r\n",
      "\t\t\t\t\t\t\t\r\n",
      "\t\t\t\t\t\t</span>\n",
      "<!-- Begin PowerReviews snippet -->\n",
      "<div class=\"powerblock\">\n",
      "<div class=\"CategorySnippet\">\n",
      "<div class=\"ReviewSnippet\">\n",
      "<div id=\"hasReviews9781785286315.IP\" style=\"display:none\">\n",
      "<script type=\"text/javascript\">\r\n",
      "\t\t\t\t\t\t        POWERREVIEWS.display.snippet(document, {\r\n",
      "\t\t\t\t\t\t\t\tpr_page_id : '9781785286315.IP',\r\n",
      "\t\t\t\t\t\t\t\tpr_read_review : '',\r\n",
      "\t\t\t\t\t\t\t\tpr_write_review : ''\r\n",
      "\t\t\t\t\t\t\t});\r\n",
      "\t\t\t\t\t\t\t\r\n",
      "\t\t\t\t\t\t\t\r\n",
      "\t\t\t\t\t\t</script>\n",
      "</div>\n",
      "<div id=\"noReviews9781785286315.IP\" style=\"display:none;padding:0px 0 8px 0;\">\n",
      "<script type=\"text/javascript\">document.write('Be the first to <a href=\"/product/9781785286315/ReviewSubmit.do?sortby=publicationDate?pageId=9781785286315.IP\">write a review <br/></a>')</script>\n",
      "</div>\n",
      "<script type=\"text/javascript\">\r\n",
      "\t\t\t\t\t\t\t\tvar pr_data_callback = function (info) { //create this info object to pass to the call-back function, and it runs the logic\r\n",
      "\t\t\t\t\t\t\t\t\tif (info.getFullReviewCount() > 0) { //if we have reviews on this product\r\n",
      "\t\t\t\t\t\t\t\t\t\tdocument.getElementById('hasReviews9781785286315.IP').style.display = \"block\";}\r\n",
      "\t\t\t\t\t\t\t\t\telse {document.getElementById('noReviews9781785286315.IP').style.display = \"none\";}\r\n",
      "\t\t\t\t\t\t\t\t\t};\r\n",
      "\t\t\t\t\t\t\t\tprData (pr_data_callback);   //now pass the function to our javascript function for evaluation\r\n",
      "\t\t\t\t\t </script>\n",
      "</div>\n",
      "</div>\n",
      "</div>\n",
      "<!-- End PowerReviews snippet -->\n",
      "<div style=\"clear:both;\">\n",
      "<div content=\"SKUPrice\" id=\"251875\" iselectronicmedia=\"true \" optionpk=\"100011\">\n",
      "<span class=\"pricelabel\">\r\n",
      "\t\t\t\t\t\r\n",
      "\t\t\t\t\t\t\r\n",
      "\t\t\t\t\t\t\r\n",
      "\t\t\t\t\t\t\t\r\n",
      "\t\t\t\t\t\t\tEbook\r\n",
      "\t\t\t\t\t\t\r\n",
      "\t\t\t\t\t:\r\n",
      "\t\t\t\t\t\r\n",
      "\t\t\t\t\t\r\n",
      "\t\t\t\t\t\r\n",
      "\t\t\t\t\t\r\n",
      "\t\t\t\t\t\r\n",
      "\t\t\t\t\t\r\n",
      "\t\t\t\t\t\r\n",
      "\t\t\t\t\t\r\n",
      "\t\t\t\t\t<span class=\"price\"> $35.99</span>\n",
      "</span>\n",
      "</div>\n",
      "</div>\n",
      "</div>\n",
      "</td>\n"
     ]
    }
   ],
   "source": [
    "#search for 'Videos' --> If span class ='pricelabel' has 'Video' in it\n",
    "print tds[-1]\n"
   ]
  },
  {
   "cell_type": "code",
   "execution_count": 132,
   "metadata": {
    "collapsed": false
   },
   "outputs": [
    {
     "name": "stdout",
     "output_type": "stream",
     "text": [
      "[<span class=\"pricelabel\">\\r\\n\\t\\t\\t\\t\\t\\r\\n\\t\\t\\t\\t\\t\\t\\r\\n\\t\\t\\t\\t\\t\\t\\r\\n\\t\\t\\t\\t\\t\\t\\t\\r\\n\\t\\t\\t\\t\\t\\t\\tVideo\\r\\n\\t\\t\\t\\t\\t\\t\\r\\n\\t\\t\\t\\t\\t:\\r\\n\\t\\t\\t\\t\\t\\r\\n\\t\\t\\t\\t\\t\\r\\n\\t\\t\\t\\t\\t\\r\\n\\t\\t\\t\\t\\t\\r\\n\\t\\t\\t\\t\\t\\r\\n\\t\\t\\t\\t\\t\\r\\n\\t\\t\\t\\t\\t\\r\\n\\t\\t\\t\\t\\t\\r\\n\\t\\t\\t\\t\\t<span class=\"price\">\\xa0$74.99</span>\\n</span>]\n"
     ]
    }
   ],
   "source": [
    "print tds[4]('span', 'pricelabel')"
   ]
  },
  {
   "cell_type": "code",
   "execution_count": 133,
   "metadata": {
    "collapsed": false
   },
   "outputs": [
    {
     "name": "stdout",
     "output_type": "stream",
     "text": [
      "<span class=\"pricelabel\">\r\n",
      "\t\t\t\t\t\r\n",
      "\t\t\t\t\t\t\r\n",
      "\t\t\t\t\t\t\r\n",
      "\t\t\t\t\t\t\t\r\n",
      "\t\t\t\t\t\t\tVideo\r\n",
      "\t\t\t\t\t\t\r\n",
      "\t\t\t\t\t:\r\n",
      "\t\t\t\t\t\r\n",
      "\t\t\t\t\t\r\n",
      "\t\t\t\t\t\r\n",
      "\t\t\t\t\t\r\n",
      "\t\t\t\t\t\r\n",
      "\t\t\t\t\t\r\n",
      "\t\t\t\t\t\r\n",
      "\t\t\t\t\t\r\n",
      "\t\t\t\t\t<span class=\"price\"> $74.99</span>\n",
      "</span>\n"
     ]
    }
   ],
   "source": [
    "print tds[4]('span', 'pricelabel')[0]"
   ]
  },
  {
   "cell_type": "code",
   "execution_count": 134,
   "metadata": {
    "collapsed": false
   },
   "outputs": [
    {
     "name": "stdout",
     "output_type": "stream",
     "text": [
      "Video\r\n",
      "\t\t\t\t\t\t\r\n",
      "\t\t\t\t\t:\r\n",
      "\t\t\t\t\t\r\n",
      "\t\t\t\t\t\r\n",
      "\t\t\t\t\t\r\n",
      "\t\t\t\t\t\r\n",
      "\t\t\t\t\t\r\n",
      "\t\t\t\t\t\r\n",
      "\t\t\t\t\t\r\n",
      "\t\t\t\t\t\r\n",
      "\t\t\t\t\t $74.99\n"
     ]
    }
   ],
   "source": [
    "print  tds[4]('span', 'pricelabel')[0].text.strip()"
   ]
  },
  {
   "cell_type": "code",
   "execution_count": 135,
   "metadata": {
    "collapsed": false
   },
   "outputs": [
    {
     "name": "stdout",
     "output_type": "stream",
     "text": [
      "23\n"
     ]
    }
   ],
   "source": [
    "def is_video(td):\n",
    "    pricelabels = td('span', 'pricelabel')\n",
    "    return (pricelabels[0].text.strip().startswith('Video'))\n",
    "\n",
    "print len([tdz for tdz in tds if not is_video(tdz)])"
   ]
  },
  {
   "cell_type": "markdown",
   "metadata": {},
   "source": [
    "#### Title"
   ]
  },
  {
   "cell_type": "code",
   "execution_count": 136,
   "metadata": {
    "collapsed": false
   },
   "outputs": [
    {
     "name": "stdout",
     "output_type": "stream",
     "text": [
      "Julia for Data Science\n"
     ]
    }
   ],
   "source": [
    "#seems that the title is within <div class=\"thumbheader\"> <a ....\n",
    "\n",
    "title = tds[4].find('div', 'thumbheader').a.text\n",
    "print title"
   ]
  },
  {
   "cell_type": "code",
   "execution_count": 137,
   "metadata": {
    "collapsed": false
   },
   "outputs": [
    {
     "name": "stdout",
     "output_type": "stream",
     "text": [
      "By Raghav Bali, Dipanjan Sarkar\n"
     ]
    }
   ],
   "source": [
    "#Same for title\n",
    "\n",
    "author = tds[3].find('div', 'AuthorName').text\n",
    "print author"
   ]
  },
  {
   "cell_type": "code",
   "execution_count": 141,
   "metadata": {
    "collapsed": false
   },
   "outputs": [
    {
     "name": "stdout",
     "output_type": "stream",
     "text": [
      "[u'Luca Massaron', u'Alberto Boschetti']\n"
     ]
    }
   ],
   "source": [
    "import re\n",
    "\n",
    "author_name = td.find('div', 'AuthorName').text\n",
    "authors = [x.strip() for x in re.sub('^By ', '', author_name).split(',')]\n",
    "print authors"
   ]
  },
  {
   "cell_type": "markdown",
   "metadata": {},
   "source": [
    "#### date"
   ]
  },
  {
   "cell_type": "code",
   "execution_count": 146,
   "metadata": {
    "collapsed": false
   },
   "outputs": [
    {
     "name": "stdout",
     "output_type": "stream",
     "text": [
      "February 2016\n"
     ]
    }
   ],
   "source": [
    "date = td.find('span', 'directorydate').text.strip()\n",
    "print date"
   ]
  },
  {
   "cell_type": "markdown",
   "metadata": {},
   "source": [
    "### All together"
   ]
  },
  {
   "cell_type": "code",
   "execution_count": 147,
   "metadata": {
    "collapsed": true
   },
   "outputs": [],
   "source": [
    "def book_info(td):\n",
    "    title = td.find('div', 'thumbheader').a.text\n",
    "    by_author = td.find('div', 'AuthorName').text\n",
    "    authors = [x.strip() for x in re.sub('^By ', '', by_author).split(',')]\n",
    "    date = td.find('span', 'directorydate').text.strip()\n",
    "    \n",
    "    return {\n",
    "        'title': title,\n",
    "        'authors': authors,\n",
    "        'date': date\n",
    "    }"
   ]
  },
  {
   "cell_type": "code",
   "execution_count": null,
   "metadata": {
    "collapsed": false
   },
   "outputs": [
    {
     "name": "stdout",
     "output_type": "stream",
     "text": [
      "souping page 1 , 0 found so far\n",
      "souping page 2 , 23 found so far\n",
      "souping page 3 , 47 found so far\n",
      "souping page 4 , 72 found so far\n"
     ]
    }
   ],
   "source": [
    "from bs4 import BeautifulSoup\n",
    "import requests\n",
    "from time import sleep\n",
    "\n",
    "base_url = 'http://shop.oreilly.com/category/browse-subjects/data.do?sortby=publicationDate&page='\n",
    "\n",
    "books = []\n",
    "NUM_PAGES = 44\n",
    "\n",
    "for page_num in range(1, NUM_PAGES+1):\n",
    "    print 'souping page', page_num, ',', len(books), 'found so far'\n",
    "    url = base_url + str(page_num)\n",
    "    soup = BeautifulSoup(requests.get(url).text, 'lxml')\n",
    "    \n",
    "    for td in soup('td', 'thumbtext'):\n",
    "        if not is_video(td):\n",
    "            books.append(book_info(td))\n",
    "        \n",
    "    sleep(30)"
   ]
  },
  {
   "cell_type": "markdown",
   "metadata": {},
   "source": [
    "### Plotting"
   ]
  },
  {
   "cell_type": "code",
   "execution_count": 169,
   "metadata": {
    "collapsed": false
   },
   "outputs": [
    {
     "name": "stdout",
     "output_type": "stream",
     "text": [
      "Counter({2015: 50, 2016: 46})\n"
     ]
    },
    {
     "data": {
      "image/png": "[encoded data removed]",
      "text/plain": [
       "<matplotlib.figure.Figure at 0x1097a2c90>"
      ]
     },
     "metadata": {},
     "output_type": "display_data"
    }
   ],
   "source": [
    "from collections import Counter\n",
    "import matplotlib.pyplot as plt\n",
    "%matplotlib inline \n",
    "\n",
    "def get_year(book):\n",
    "    return int(book['date'].split()[1])\n",
    "\n",
    "year_counts = Counter(get_year(book) for book in books)\n",
    "print year_counts\n",
    "years = sorted(year_counts)\n",
    "book_counts = [year_counts[year] for year in years]\n",
    "plt.plot(years, book_counts)\n",
    "plt.ylabel('#Data books')\n",
    "plt.show()"
   ]
  },
  {
   "cell_type": "code",
   "execution_count": null,
   "metadata": {
    "collapsed": true
   },
   "outputs": [],
   "source": []
  }
 ],
 "metadata": {
  "kernelspec": {
   "display_name": "Python 2",
   "language": "python",
   "name": "python2"
  },
  "language_info": {
   "codemirror_mode": {
    "name": "ipython",
    "version": 2
   },
   "file_extension": ".py",
   "mimetype": "text/x-python",
   "name": "python",
   "nbconvert_exporter": "python",
   "pygments_lexer": "ipython2",
   "version": "2.7.11"
  }
 },
 "nbformat": 4,
 "nbformat_minor": 0
}
