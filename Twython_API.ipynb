{
 "cells": [
  {
   "cell_type": "markdown",
   "metadata": {},
   "source": [
    "# Twython API"
   ]
  },
  {
   "cell_type": "code",
   "execution_count": 1,
   "metadata": {
    "collapsed": true
   },
   "outputs": [],
   "source": [
    "from twython import Twython"
   ]
  },
  {
   "cell_type": "code",
   "execution_count": 3,
   "metadata": {
    "collapsed": false
   },
   "outputs": [],
   "source": [
    "key = 'key'\n",
    "secret = 'secret'\n",
    "\n",
    "\n",
    "twitter = Twython(key, secret)"
   ]
  },
  {
   "cell_type": "code",
   "execution_count": 9,
   "metadata": {
    "collapsed": false
   },
   "outputs": [
    {
     "name": "stdout",
     "output_type": "stream",
     "text": [
      "CartignyFlora1 : RT @KQEDnews: Scientists use microphones and big data to monitor rare California frog https://t.co/RyI6A596sS https://t.co/Dti2YbuL67\n",
      "\n",
      "garrett__obrien : RT thehrisworld: DANIIL SHASH Speaker Tucana_HR #PA16LON https://t.co/CkDYGEZlp9 Head of Data Science, Eleks #thw… https://t.co/yjB74UEgOx\n",
      "\n",
      "Norinecweber : Healthcare Data Science Company Proskriptive Closes Seed Round https://t.co/hXVPBnTWMl via @YahooFinance\n",
      "\n",
      "BigDataTweetBot : RT @TheNutellaMan: #bigdata #SaaS Introduction to Data Science with R https://t.co/GFAAF0b1kj\n",
      "\n",
      "BIG_DATA_News : 11 Deep Learning Articles, Tutorials and Resources - Data Science Central https://t.co/aAgdvOj3KZ\n",
      "\n",
      "OmniUniversity : @SAP_JamyJam @jabenitez @CutterBrenton What is #DataScience? And why it's the new trend? https://t.co/I6CYCVMVq4\n",
      "\n",
      "AngleseaAC : Why even climate science denier Marc Morano knows not to bet against global warming data (#BecauseYouLose 🎲🎰#Auspol) https://t.co/3DkrV9Dv1q\n",
      "\n",
      "odsc : Students get access to 100+ Data Science talks, workshops, trainings, tutorials, networking &amp; career fair 1/2 price https://t.co/jZMc2DuWIB\n",
      "\n",
      "THW_Research : DANIIL SHASH Speaker @Tucana_HR #PA16LON https://t.co/6853OrUe4e Head of Data Science, Eleks #thwconf https://t.co/4j1N63jEVY\n",
      "\n",
      "thehrisworld : DANIIL SHASH Speaker @Tucana_HR #PA16LON https://t.co/qE9Gl1pbHW Head of Data Science, Eleks #thwconf https://t.co/tTWvMPGFc7\n",
      "\n",
      "garrett__obrien : DANIIL SHASH Speaker @Tucana_HR #PA16LON https://t.co/CkDYGEZlp9 Head of Data Science, Eleks #thwconf https://t.co/gSME6fenFB\n",
      "\n",
      "big_data_flow : RT @benhamner: Big pain point in data science today: data scientist's typical workflows aren't reproducible https://t.co/fcBhNI4ELS\n",
      "\n",
      "MDBlanchfield : RT @Sergiy900: There are lots of successful women who aspiring #data scientists can look to for inspiration https://t.co/IPh62c9y2u https:/…\n",
      "\n",
      "marketsmartz : #big data #data science #trends  https://t.co/gZbIcviRpz\n",
      "\n",
      "trung_khe : Checking out \"11 Deep Learning Articles, Tutorials and Resources\" on Data Science Central: https://t.co/EG6GTJXwCK\n",
      "\n"
     ]
    }
   ],
   "source": [
    "for status in twitter.search(q='data science')['statuses']:\n",
    "    user = status['user']['screen_name'].encode('utf-8')\n",
    "    text = status['text'].encode('utf-8')\n",
    "    print user, ':', text\n",
    "    print"
   ]
  },
  {
   "cell_type": "code",
   "execution_count": 23,
   "metadata": {
    "collapsed": true
   },
   "outputs": [],
   "source": [
    "# getting tons of twitters\n",
    "\n",
    "from twython import TwythonStreamer\n",
    "\n",
    "tweets = []\n",
    "\n",
    "class MyStreamer(TwythonStreamer):\n",
    "    \"\"\"interact with the stream\"\"\"\n",
    "    \n",
    "    def on_success(self, data):\n",
    "        \"\"\"what do we want twitter send us\"\"\"\n",
    "        \n",
    "        #ony want to collect English-language tweets\n",
    "        \n",
    "        if data['lang'] == 'en':\n",
    "            tweets.append(data)\n",
    "            print 'received tweet #', len(tweets)\n",
    "        \n",
    "        if len(tweets) >= 50:\n",
    "            self.disconnect()\n",
    "    \n",
    "    def on_error(self, status_code, data):\n",
    "        print status_code, data\n",
    "        self.disconnect()"
   ]
  },
  {
   "cell_type": "code",
   "execution_count": 24,
   "metadata": {
    "collapsed": false
   },
   "outputs": [
    {
     "name": "stdout",
     "output_type": "stream",
     "text": [
      "420 Exceeded connection limit for user\r\n",
      "\n"
     ]
    }
   ],
   "source": [
    "key = 'key'\n",
    "secret = 'secret'\n",
    "token ='token'\n",
    "token_secret = 'toke_secret'\n",
    "\n",
    "\n",
    "stream = MyStreamer(key, secret, token, token_secret)\n",
    "stream.statuses.filter(track='Cuernavaca')"
   ]
  },
  {
   "cell_type": "code",
   "execution_count": 20,
   "metadata": {
    "collapsed": false
   },
   "outputs": [
    {
     "name": "stdout",
     "output_type": "stream",
     "text": [
      "[(u'bigdata', 9), (u'analytics', 3), (u'data', 2), (u'houston', 1), (u'san', 1)]\n"
     ]
    }
   ],
   "source": [
    "from collections import Counter\n",
    "top_hashtags = Counter(hashtag['text'].lower()\n",
    "                      for tweet in tweets\n",
    "                      for hashtag in tweet['entities']['hashtags'])\n",
    "print top_hashtags.most_common(5)"
   ]
  },
  {
   "cell_type": "code",
   "execution_count": null,
   "metadata": {
    "collapsed": true
   },
   "outputs": [],
   "source": []
  }
 ],
 "metadata": {
  "kernelspec": {
   "display_name": "Python 2",
   "language": "python",
   "name": "python2"
  },
  "language_info": {
   "codemirror_mode": {
    "name": "ipython",
    "version": 2
   },
   "file_extension": ".py",
   "mimetype": "text/x-python",
   "name": "python",
   "nbconvert_exporter": "python",
   "pygments_lexer": "ipython2",
   "version": "2.7.11"
  }
 },
 "nbformat": 4,
 "nbformat_minor": 0
}
