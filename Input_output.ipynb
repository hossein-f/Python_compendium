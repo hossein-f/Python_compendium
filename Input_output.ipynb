{
 "cells": [
  {
   "cell_type": "markdown",
   "metadata": {},
   "source": [
    "# Getting Data\n",
    "We start from scratch and use pandas or more elaborated ways."
   ]
  },
  {
   "cell_type": "markdown",
   "metadata": {},
   "source": [
    "## stdin and stdout"
   ]
  },
  {
   "cell_type": "code",
   "execution_count": 62,
   "metadata": {
    "collapsed": false,
    "scrolled": true
   },
   "outputs": [
    {
     "name": "stdout",
     "output_type": "stream",
     "text": [
      "2406\tthe\r\n",
      "1509\tand\r\n",
      "1405\ta\r\n",
      "1140\tof\r\n",
      "1139\tto\r\n",
      "993\ti\r\n",
      "793\tin\r\n",
      "767\the\r\n",
      "749\twas\r\n",
      "530\tthat\r\n",
      "0 times Gatsby in 0 lines\r\n"
     ]
    }
   ],
   "source": [
    "%cat 'F_Scott_Fitzgerald_The_Great_Gatsby.txt' | python count_words.py 'Gatsby'"
   ]
  },
  {
   "cell_type": "code",
   "execution_count": 86,
   "metadata": {
    "collapsed": false
   },
   "outputs": [
    {
     "name": "stdout",
     "output_type": "stream",
     "text": [
      "0\n"
     ]
    }
   ],
   "source": [
    "file_name = 'F_Scott_Fitzgerald_The_Great_Gatsby.txt'\n",
    "\n",
    "import re\n",
    "\n",
    "starts_with= 0\n",
    "\n",
    "with open(file_name, 'r') as f:\n",
    "    for line in f:\n",
    "        if re.match(\"I\",line.strip()):\n",
    "            starts_with_has += 1\n",
    "print starts_with"
   ]
  },
  {
   "cell_type": "markdown",
   "metadata": {
    "collapsed": false
   },
   "source": [
    "## Delimited Files\n",
    "Files with no headers and want each row as a **list**"
   ]
  },
  {
   "cell_type": "code",
   "execution_count": null,
   "metadata": {
    "collapsed": true
   },
   "outputs": [],
   "source": [
    "import csv"
   ]
  },
  {
   "cell_type": "markdown",
   "metadata": {},
   "source": [
    "Tab-delimited file"
   ]
  },
  {
   "cell_type": "code",
   "execution_count": 19,
   "metadata": {
    "collapsed": false
   },
   "outputs": [
    {
     "name": "stdout",
     "output_type": "stream",
     "text": [
      "['01/04/2016', 'APPL', '98000']\n",
      "['01/07/2016', 'MSFT', '100000']\n",
      "['01/08/2016', 'FB', '100000']\n",
      "['01/11/2016', 'AAPL', '101500']\n",
      "['01/12/201', '6FB', '101500']\n",
      "['01/13/2016', 'MSFT', '101500']\n"
     ]
    }
   ],
   "source": [
    "with open('data/Investing.txt', 'rb') as f:\n",
    "    reader = csv.reader(f, delimiter='\\t')\n",
    "    for row in reader:\n",
    "        print row\n",
    "        date = row[0]\n",
    "        stock  = row[1]\n",
    "        price  = float(row[2])\n",
    "        #process(date, stock, price)"
   ]
  },
  {
   "cell_type": "markdown",
   "metadata": {},
   "source": [
    "If your file has headers\n",
    "\n",
    "(you can skip the header row with **reader.next()**)"
   ]
  },
  {
   "cell_type": "code",
   "execution_count": 21,
   "metadata": {
    "collapsed": false
   },
   "outputs": [
    {
     "name": "stdout",
     "output_type": "stream",
     "text": [
      "01/04/2016\n",
      "01/07/2016\n",
      "01/08/2016\n",
      "01/11/2016\n",
      "01/12/201\n",
      "01/13/2016\n"
     ]
    }
   ],
   "source": [
    "with open('data/Investing_2.txt', 'rb') as f:\n",
    "    reader = csv.DictReader(f, delimiter= ':')\n",
    "    for row in reader:\n",
    "        date = row['date']\n",
    "        sybol= row['symbol']\n",
    "        price= row['price']\n",
    "        print date\n"
   ]
  },
  {
   "cell_type": "markdown",
   "metadata": {},
   "source": [
    "#### Write out delimited data  "
   ]
  },
  {
   "cell_type": "code",
   "execution_count": 29,
   "metadata": {
    "collapsed": false
   },
   "outputs": [],
   "source": [
    "today_price = {'APPL': 90.91, 'MFST': 41.67, 'FB': 64.5}\n",
    "\n",
    "with open('data/Invest_delimited.txt', 'wb') as f:\n",
    "    writer = csv.writer(f, delimiter='\\t')\n",
    "    for stock, price in today_price.items():\n",
    "        writer.writerow([stock, price])"
   ]
  },
  {
   "cell_type": "code",
   "execution_count": null,
   "metadata": {
    "collapsed": true
   },
   "outputs": [],
   "source": []
  }
 ],
 "metadata": {
  "kernelspec": {
   "display_name": "Python 2",
   "language": "python",
   "name": "python2"
  },
  "language_info": {
   "codemirror_mode": {
    "name": "ipython",
    "version": 2
   },
   "file_extension": ".py",
   "mimetype": "text/x-python",
   "name": "python",
   "nbconvert_exporter": "python",
   "pygments_lexer": "ipython2",
   "version": "2.7.11"
  }
 },
 "nbformat": 4,
 "nbformat_minor": 0
}
